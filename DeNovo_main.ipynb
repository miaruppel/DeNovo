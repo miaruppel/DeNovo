{
 "cells": [
  {
   "cell_type": "code",
   "execution_count": 1,
   "id": "9624bf9a",
   "metadata": {},
   "outputs": [],
   "source": [
    "# import libraries\n",
    "from pyopenms import * # main package used for handling MS data\n",
    "import os # changing directories\n",
    "import pandas as pd # to read in tsv and for dataframe creation/manipulation\n",
    "import subprocess # running R script \n",
    "import matplotlib.pyplot as plt # for bar graph"
   ]
  },
  {
   "cell_type": "code",
   "execution_count": 2,
   "id": "2e379623",
   "metadata": {},
   "outputs": [],
   "source": [
    "# change directory to find data files of interest\n",
    "os.chdir(r'C:\\Users\\miar\\Desktop\\data')"
   ]
  },
  {
   "cell_type": "code",
   "execution_count": 3,
   "id": "8eeeed77",
   "metadata": {},
   "outputs": [],
   "source": [
    "# experiment files \n",
    "mzML = 'HEK293T_De_Novo_061122_Glu-C_B_BP_anyLength_HCD30.mzML'\n",
    "log = 'App-2022-06-12_22-28-53.log'\n",
    "realtime = 'HEK293T_De_Novo_061122_Glu-C_B_BP_anyLength_HCD30_realtimesearch.tsv'\n",
    "\n",
    "print('Experiment Files: ')\n",
    "print(mzML)\n",
    "print(log)\n",
    "print(realtime)"
   ]
  },
  {
   "cell_type": "code",
   "execution_count": 4,
   "id": "37311037",
   "metadata": {},
   "outputs": [],
   "source": [
    "# load the content of the mzML file into the exp variable of type MSExperiment\n",
    "exp = MSExperiment()\n",
    "MzMLFile().load(mzML, exp)\n",
    "\n",
    "# access the raw data and spectra\n",
    "#spectrum_data = exp.getSpectrum(0).get_peaks()\n",
    "#spectrum_data"
   ]
  },
  {
   "cell_type": "code",
   "execution_count": 5,
   "id": "422c46f3",
   "metadata": {},
   "outputs": [
    {
     "name": "stdout",
     "output_type": "stream",
     "text": [
      "Number of MS2 scans: 81780\n",
      "Number of MS3 scans: 681\n"
     ]
    }
   ],
   "source": [
    "# loop through the spectra to filter MS2 and MS3 scans\n",
    "specM2 = []\n",
    "specM3 = []\n",
    "for s in exp.getSpectra():\n",
    "    if s.getMSLevel() == 2:\n",
    "        specM2.append(s)\n",
    "    elif s.getMSLevel() == 3:\n",
    "        specM3.append(s)\n",
    "        \n",
    "print(\"Number of MS2 scans: \" + str(len(specM2)))\n",
    "print(\"Number of MS3 scans: \" + str(len(specM3)))\n",
    "\n",
    "# store the modified data structure on disk\n",
    "# can only save one at a time or data overwrites....\n",
    "#MzMLFile().store(\"filtered.mzML\", exp)"
   ]
  },
  {
   "cell_type": "code",
   "execution_count": 6,
   "id": "fdc7c162",
   "metadata": {},
   "outputs": [],
   "source": [
    "# parse functions\n",
    "def parseScanLine(input):\n",
    "    x = input.split(\" For: \")\n",
    "    [scan_number, mzs] = x[1].split(\", \")\n",
    "    [precursor_mz, fragment_mz] = mzs.split(\";\")\n",
    "    trimmed_fragment_mz = fragment_mz.strip() # trim fragment strings to remove \\n\n",
    "    return [scan_number, precursor_mz, trimmed_fragment_mz]\n",
    "\n",
    "def parseTargetIons(input):\n",
    "    i = input.split('Target Fragment: ')\n",
    "    ion = i[1].split(',')[0]\n",
    "    return ion "
   ]
  },
  {
   "cell_type": "code",
   "execution_count": 7,
   "id": "cd13a154",
   "metadata": {},
   "outputs": [],
   "source": [
    "# checking lines of log file and creating dictionary of scan numbers and fragment mzs\n",
    "try:\n",
    "  \n",
    "    # words to search for\n",
    "    search = ' Submitted Custom Scan For:'\n",
    "    search_target = 'Target Fragment:'\n",
    "    \n",
    "    # dict for scan numbers and corresponding fragments \n",
    "    scan2frag = dict()\n",
    "    target_values = []\n",
    "    with open(log) as f:\n",
    "        for line in f:\n",
    "            if search in line:\n",
    "                scan_number, precursor_mz, trimmed_fragment_mz = parseScanLine(line)\n",
    "                scan2frag[scan_number] = [float(precursor_mz), float(trimmed_fragment_mz)]\n",
    "            elif search_target in line:\n",
    "                target_ion = parseTargetIons(line)\n",
    "                target_values.append(target_ion) #to add to final dataframe\n",
    "            \n",
    "    # if the input string doesn't exist in the text file\n",
    "    if len(scan2frag)==0:\n",
    "        print(\"\\n\\\"\" + search + \"\\\" is not found in \\\"\" + log + \"\\\"!\")\n",
    "\n",
    "except FileNotFoundError:\n",
    "    print(\"The file does not exist!\")"
   ]
  },
  {
   "cell_type": "code",
   "execution_count": 8,
   "id": "b73095ac",
   "metadata": {},
   "outputs": [],
   "source": [
    "# read in peptide sequence from tsv\n",
    "tsv = pd.read_csv(realtime, sep='\\t')\n",
    "\n",
    "# create dictionary with scan # as key and sequence/charge as values\n",
    "scan2PeptideCharge = dict([(i, [x,y]) for i, x,y, in zip(tsv['Scan Number'], tsv['Peptide'], tsv['Charge State'])])\n",
    "\n",
    "# removing all NaN sequences (not useful)\n",
    "scan2PeptideCharge_modified = {k:v for k,v in scan2PeptideCharge.items() if str(v[0]) != 'nan'}"
   ]
  },
  {
   "cell_type": "code",
   "execution_count": 9,
   "id": "2680351a",
   "metadata": {},
   "outputs": [],
   "source": [
    "def findFragments(peptide_object, charge):\n",
    "    # loop through each prefix and suffix (b and y ions, respectively)\n",
    "    # y and b ions\n",
    "\n",
    "    b_index = []\n",
    "    y_index = []\n",
    "    for ion in range(1, (peptide_object.size())): # start at index of 1, end at peptide length - 1\n",
    "        y_ion = peptide_object.getSuffix(ion)\n",
    "        b_ion = peptide_object.getPrefix(ion)\n",
    "\n",
    "        for z in range(1, charge):\n",
    "            mz_b = b_ion.getMonoWeight(Residue.ResidueType.BIon, z) / z\n",
    "            b_index.append(s.findNearest(mz_b, 0.4))\n",
    "\n",
    "            mz_y = y_ion.getMonoWeight(Residue.ResidueType.YIon, z) / z\n",
    "            y_index.append(s.findNearest(mz_y, 0.4))\n",
    "\n",
    "    y_index.reverse() # reverse list (the first b ion corresponds with the last y ion)\n",
    "    \n",
    "    # skim list for each corresponding y and b fragments based on charge states\n",
    "    count = 0\n",
    "    missing_list = []\n",
    "    for fragment_index in range(0, len(y_index), charge-1): # check after 'x' mzs (possible charge states)\n",
    "        \n",
    "        count = count + 1\n",
    "        \n",
    "        check_b = b_index[fragment_index : fragment_index+charge-1]\n",
    "        check_y = y_index[fragment_index : fragment_index+charge-1]\n",
    "\n",
    "        if all(item == -1 for item in check_b) and all(item == -1 for item in check_y):\n",
    "            missing_list.append(str(count))\n",
    "        \n",
    "        number_missing = len(missing_list)\n",
    "        missing_list_mod = \",\".join(str(i) for i in missing_list)\n",
    "\n",
    "    return missing_list_mod, number_missing"
   ]
  },
  {
   "cell_type": "code",
   "execution_count": 10,
   "id": "9994a766",
   "metadata": {},
   "outputs": [],
   "source": [
    "table_rows = []\n",
    "for s in specM2:\n",
    "    s_number = s.getNativeID().split(' ')[-1]\n",
    "    _, scan_number = s_number.split('=')\n",
    "    \n",
    "    if scan_number in scan2frag and int(scan_number) in scan2PeptideCharge_modified:\n",
    "        # isolate peptide sequence from dict\n",
    "        sequence = scan2PeptideCharge_modified[int(scan_number)][0]     \n",
    "        trimmed_sequence = sequence[2:-2] # remove first two and last two characters \n",
    "        \n",
    "        # isolate charge from dict\n",
    "        charge = scan2PeptideCharge_modified[int(scan_number)][1]\n",
    " \n",
    "        # create peptide object \n",
    "        peptide_object = AASequence.fromString(trimmed_sequence)\n",
    "        \n",
    "        # call findFragments function\n",
    "        missing_list_mod, number_missing = findFragments(peptide_object, charge)\n",
    "        \n",
    "        # creating table\n",
    "        #myTable.add_row([scan_number, trimmed_sequence, peptide_object.size(), missing_list])\n",
    "        add_row = {'Scan_Number':scan_number, \n",
    "                'Sequence':trimmed_sequence,\n",
    "                   'Charge':charge,\n",
    "                'Sequence_Length':peptide_object.size(),\n",
    "                'Missing_Fragment_Locations':missing_list_mod,\n",
    "                   'Number_Missing':number_missing}\n",
    "        table_rows.append(add_row)"
   ]
  },
  {
   "cell_type": "code",
   "execution_count": 11,
   "id": "f09eec87",
   "metadata": {},
   "outputs": [],
   "source": [
    "# create dataframe to be exported as table later \n",
    "df = pd.DataFrame(table_rows)\n",
    "# add targeted fragment column and precursor mz column\n",
    "fragment_df = df.assign(Target_Fragment=target_values)"
   ]
  },
  {
   "cell_type": "code",
   "execution_count": 13,
   "id": "caf4e3a1",
   "metadata": {},
   "outputs": [],
   "source": [
    "# export df to tsv \n",
    "fragment_df.to_csv('fragmentInfoTable.tsv', sep=' ', index=False)"
   ]
  },
  {
   "cell_type": "code",
   "execution_count": 14,
   "id": "6973f421",
   "metadata": {},
   "outputs": [
    {
     "data": {
      "text/plain": [
       "CompletedProcess(args='Rscript C:\\\\Users\\\\miar\\\\Desktop\\\\data\\\\fragmentStatistics.R', returncode=0)"
      ]
     },
     "execution_count": 14,
     "metadata": {},
     "output_type": "execute_result"
    }
   ],
   "source": [
    "# perform table modifications and plot histograms in R...\n",
    "# ...\n",
    "# ...\n",
    "subprocess.run(r'Rscript C:\\Users\\miar\\Desktop\\data\\fragmentStatistics.R', shell=True)"
   ]
  },
  {
   "cell_type": "code",
   "execution_count": 15,
   "id": "69590a93",
   "metadata": {},
   "outputs": [],
   "source": [
    "# read in modified table\n",
    "checktargets_df = pd.read_csv('fragmentInfoTable_altered.tsv', sep=\"/t\", engine='python')"
   ]
  },
  {
   "cell_type": "code",
   "execution_count": 16,
   "id": "df503a84",
   "metadata": {},
   "outputs": [],
   "source": [
    "#checktargets_df"
   ]
  },
  {
   "cell_type": "code",
   "execution_count": 17,
   "id": "6da8214b",
   "metadata": {},
   "outputs": [],
   "source": [
    "# find all precursor and fragment mzs from log (used for MS3 matching)\n",
    "precursor_mzs = []\n",
    "fragment_mzs = []\n",
    "\n",
    "for scan in list(scan2frag):\n",
    "    precursor_mzs.append(scan2frag[scan][0])\n",
    "    fragment_mzs.append(scan2frag[scan][1])"
   ]
  },
  {
   "cell_type": "code",
   "execution_count": 18,
   "id": "1e35e129",
   "metadata": {},
   "outputs": [],
   "source": [
    "# obtain MS3 scan numbers\n",
    "# obtain precursor and fragment mzs directly from the MS3 spectrum\n",
    "\n",
    "ms3scan2MZs = dict()\n",
    "for s in specM3:\n",
    "    s_number = s.getNativeID().split(' ')[-1]\n",
    "    _, scan_number = s_number.split('=')\n",
    "   \n",
    "    fragment, precursor = s.getPrecursors()\n",
    "    precursor_mz = precursor.getMZ()\n",
    "    fragment_mz = fragment.getMZ()\n",
    "    \n",
    "    ms3scan2MZs[int(scan_number)] = [round(float(precursor_mz), 4), round(float(fragment_mz), 4)] # 4 decimal places, similar to log"
   ]
  },
  {
   "cell_type": "code",
   "execution_count": 19,
   "id": "d667ce57",
   "metadata": {},
   "outputs": [],
   "source": [
    "def matchingMS3s(which_mz_list, type_str): # either fragment or precursor\n",
    "    \n",
    "    values = []\n",
    "    \n",
    "    if type_str == 'Precursor mzs':\n",
    "        for i in list(ms3scan2MZs.values()):\n",
    "            value = i[0]\n",
    "            values.append(value)\n",
    "    elif type_str == 'Fragment mzs':\n",
    "        for i in list(ms3scan2MZs.values()):\n",
    "            value = i[1]\n",
    "            values.append(value)\n",
    "    \n",
    "    # making sure they are within 100 scans of each other\n",
    "    too_far = []\n",
    "    for ms2scan, ms3scan in zip(list(scan2frag), list(ms3scan2MZs)):\n",
    "        scan_diff = int(ms3scan) - int(ms2scan)\n",
    "        if scan_diff > 100:\n",
    "            too_far.append('Scans are not within 100 scans of each other...' + 'MS2 = ' + ms2scan + ' MS3 = ' + ms3scan)\n",
    "    \n",
    "    # do they not match off the bat?\n",
    "    if values != which_mz_list:\n",
    "        \n",
    "        # taking into consideration rounding discrepencies between the log and the spectrum\n",
    "        mismatch = []\n",
    "        for i in range(0, len(which_mz_list)):\n",
    "            diff = float(values[i]) - float(which_mz_list[i]) \n",
    "            if diff < 0.000101 or (diff < 0 and diff > -0.000101): # because sometimes max number will be 0.0001000002 for example\n",
    "                pass\n",
    "            else:\n",
    "                mismatch.append(i)\n",
    "                \n",
    "        # no mismatch after rounding and within 100 scans\n",
    "        if len(mismatch) == len(too_far) == 0:\n",
    "            print(type_str + ' match up after taking rounding discrepencies into consideration')\n",
    "            new_fragment_df = fragment_df.assign(MS3_Scan = list(ms3scan2MZs))\n",
    "            return new_fragment_df\n",
    "        elif len(mismatch) != 0:\n",
    "            print('There is mismatch at the following indicies:') # if this is the case, need to do more work...\n",
    "            for i in mismatch:\n",
    "                print(i) \n",
    "        elif len(too_far) != 0:\n",
    "            print(too_far)\n",
    "       \n",
    "    # they match perfectly\n",
    "    elif values == which_mz_list:\n",
    "        \n",
    "        # within 100 scans\n",
    "        if len(too_far) == 0:\n",
    "            print(type_str + ' match up perfectly!')\n",
    "            new_fragment_df = fragment_df.assign(MS3_Scan = list(ms3scan2MZs))\n",
    "            return new_fragment_df\n",
    "        else:\n",
    "            print(too_far)"
   ]
  },
  {
   "cell_type": "code",
   "execution_count": 20,
   "id": "6fa94b08",
   "metadata": {},
   "outputs": [
    {
     "name": "stdout",
     "output_type": "stream",
     "text": [
      "Precursor mzs match up after taking rounding discrepencies into consideration\n",
      "Fragment mzs match up perfectly!\n"
     ]
    }
   ],
   "source": [
    "# matching precursor mzs between MS2 (log) and MS3 (spectrum)\n",
    "df1 = matchingMS3s(precursor_mzs, 'Precursor mzs')\n",
    "\n",
    "# matching fragment mzs between MS2 (log) and MS3 (spectrum)\n",
    "df2 = matchingMS3s(fragment_mzs, 'Fragment mzs')\n",
    "\n",
    "if df1.equals(df2):\n",
    "    new_fragment_df =  df1"
   ]
  },
  {
   "cell_type": "code",
   "execution_count": 22,
   "id": "7a2c3a6b",
   "metadata": {},
   "outputs": [],
   "source": [
    "# after making sure MS2s and MS3s line up, we can continue..."
   ]
  },
  {
   "cell_type": "code",
   "execution_count": 23,
   "id": "793d92dd",
   "metadata": {},
   "outputs": [],
   "source": [
    "# fragments that were not found in MS2 but potentially could be found in MS3\n",
    "ms3could_help = []\n",
    "ms3no_help = []\n",
    "\n",
    "for i in checktargets_df.index:\n",
    "    # target y ions\n",
    "    if str(checktargets_df['\"Target_Fragment\"'][i]).startswith('\"y'):\n",
    "        if str(checktargets_df.loc[i]['\"cTerminusEnd\"']) != 'nan' and int(checktargets_df['\"Target_Fragment\"'][i][-2]) >= int(checktargets_df['\"cTerminusEnd\"'][i]):\n",
    "            ms3could_help.append(i)\n",
    "        else:\n",
    "            ms3no_help.append(i)\n",
    "         \n",
    "    # target b ions\n",
    "    elif str(checktargets_df['\"Target_Fragment\"'][i]).startswith('\"b'):\n",
    "        if str(checktargets_df.loc[i]['\"nTerminusEnd\"']) != 'nan' and int(checktargets_df['\"Target_Fragment\"'][i][-2]) >= int(checktargets_df['\"nTerminusEnd\"'][i]):\n",
    "            ms3could_help.append(i)\n",
    "        else: \n",
    "            ms3no_help.append(i)\n",
    "    else:\n",
    "        ms3no_help.append(i)\n",
    "\n",
    "# create new df with only fragments of interest (to be checked in MS3)\n",
    "checkfrags_df = checktargets_df.drop(ms3no_help, axis=0)\n",
    "\n",
    "# remove now irrelevant info \n",
    "checkfrags_df.drop(columns=['\"Sequence\"', '\"Sequence_Length\"', '\"Number_Missing\"', '\"Target_Fragment\"', '\"cTerminusEnd\"'], inplace=True)"
   ]
  },
  {
   "cell_type": "code",
   "execution_count": 24,
   "id": "fab930a1",
   "metadata": {},
   "outputs": [],
   "source": [
    "def findFragmentsMS3(peptide_object, charge, i):\n",
    "    \n",
    "    y_index = []\n",
    "    b_index = []\n",
    "\n",
    "    # targeted fragment is a y ion\n",
    "    if new_fragment_df['Target_Fragment'][i].startswith('y'):\n",
    "        y_num = new_fragment_df['Target_Fragment'][i][-1]\n",
    "\n",
    "        # the full sequence of the fragment\n",
    "        full_seq = peptide_object.getSuffix(int(y_num))\n",
    "\n",
    "        # checking fragment for its y ions\n",
    "        for ion in range(1, int(y_num)):\n",
    "            y_ion = full_seq.getSuffix(ion)\n",
    "            for z in range(1, charge):\n",
    "                mz_y = y_ion.getMonoWeight(Residue.ResidueType.YIon, z) / z\n",
    "                y_index.append(specM3[i].findNearest(mz_y, 0.02))\n",
    "\n",
    "        # reverse list (the first b ion corresponds with the last y ion)\n",
    "        y_index.reverse() \n",
    "\n",
    "        # checking fragment for b ions\n",
    "        for ion in range(1, int(y_num)):\n",
    "            b_ion = full_seq.getPrefix(ion)\n",
    "            for z in range(1, charge):\n",
    "                mz_b = b_ion.getMonoWeight(Residue.ResidueType.Internal, z) / z\n",
    "                b_index.append(specM3[i].findNearest(mz_b, 0.02))\n",
    "                \n",
    "    # targeted fragment is a b ion\n",
    "    elif new_fragment_df['Target_Fragment'][i].startswith('b'):\n",
    "        b_num = new_fragment_df['Target_Fragment'][i][-1]\n",
    "\n",
    "        # the full sequence of the fragment\n",
    "        full_seq = peptide_object.getPrefix(int(b_num))\n",
    "\n",
    "        # checking fragment for its b ions\n",
    "        for ion in range(1, int(b_num)):\n",
    "            b_ion = full_seq.getPrefix(ion)\n",
    "            for z in range(1, charge):\n",
    "                mz_b = b_ion.getMonoWeight(Residue.ResidueType.BIon, z) / z\n",
    "                b_index.append(specM3[i].findNearest(mz_b, 0.02))\n",
    "\n",
    "        # checking fragment for y ions\n",
    "        for ion in range(1, int(b_num)):\n",
    "            y_ion = full_seq.getSuffix(ion)\n",
    "            for z in range(1, charge):\n",
    "                mz_y = y_ion.getMonoWeight(Residue.ResidueType.Internal, z) / z\n",
    "                y_index.append(specM3[i].findNearest(mz_y, 0.02))\n",
    "\n",
    "        # reverse list (the first b ion corresponds with the last y ion)\n",
    "        y_index.reverse()\n",
    "\n",
    "    count = 0\n",
    "    foundinMS3 = []\n",
    "    for fragment_index in range(0, len(y_index), charge-1): # check after 'x' mzs (possible charge states)\n",
    "\n",
    "        count = count + 1\n",
    "\n",
    "        check_y = y_index[fragment_index : fragment_index+charge-1]\n",
    "        check_b = b_index[fragment_index : fragment_index+charge-1]\n",
    "\n",
    "        if all(item == -1 for item in check_b) and all(item == -1 for item in check_y): # missing fragments\n",
    "            pass \n",
    "        else:\n",
    "            foundinMS3.append(count) # fragments found (distance from n terminus of target frag)\n",
    "\n",
    "    return foundinMS3, str(full_seq)"
   ]
  },
  {
   "cell_type": "code",
   "execution_count": 25,
   "id": "dc041f48",
   "metadata": {},
   "outputs": [],
   "source": [
    "found_list = [] # the b and y ions that were found in the MS3 sepctra\n",
    "fragment_seqs = [] # the sequence of the fragment (needed to find location from n terminus)\n",
    "for i in new_fragment_df.index:\n",
    "    \n",
    "    # create peptide object for the sequence\n",
    "    peptide_object = AASequence.fromString(new_fragment_df['Sequence'][i])\n",
    "    \n",
    "    # the charge associated with this sequence\n",
    "    charge = new_fragment_df['Charge'][i] + 1\n",
    "    \n",
    "    # call findFragmentsMS3 function \n",
    "    foundinMS3, full_seq = findFragmentsMS3(peptide_object, charge, i)\n",
    "    \n",
    "    found_list.append(foundinMS3)\n",
    "    fragment_seqs.append(full_seq)"
   ]
  },
  {
   "cell_type": "code",
   "execution_count": 26,
   "id": "9a07c453",
   "metadata": {},
   "outputs": [],
   "source": [
    "# modifying dataframe to make life easier\n",
    "\n",
    "# change full sequences to fragment sequences \n",
    "new_fragment_df = new_fragment_df.assign(Fragment_Sequence = fragment_seqs)\n",
    "\n",
    "# add column of locations found in fragment \n",
    "new_fragment_df = new_fragment_df.assign(Locations_Found=found_list)"
   ]
  },
  {
   "cell_type": "code",
   "execution_count": 28,
   "id": "ca2f985d",
   "metadata": {},
   "outputs": [],
   "source": [
    "# remove any rows with no locations found (empty lists)\n",
    "for i in new_fragment_df.index:\n",
    "    if new_fragment_df['Locations_Found'][i] == []:\n",
    "        new_fragment_df.drop(i, axis=0, inplace=True)"
   ]
  },
  {
   "cell_type": "code",
   "execution_count": null,
   "id": "1916675e",
   "metadata": {},
   "outputs": [],
   "source": [
    "# left with dataframe of all MS3 scans where at least one location on the target was found \n",
    "#new_fragment_df"
   ]
  }
 ],
 "metadata": {
  "kernelspec": {
   "display_name": "Python 3 (ipykernel)",
   "language": "python",
   "name": "python3"
  },
  "language_info": {
   "codemirror_mode": {
    "name": "ipython",
    "version": 3
   },
   "file_extension": ".py",
   "mimetype": "text/x-python",
   "name": "python",
   "nbconvert_exporter": "python",
   "pygments_lexer": "ipython3",
   "version": "3.9.12"
  }
 },
 "nbformat": 4,
 "nbformat_minor": 5
}
