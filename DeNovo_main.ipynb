{
 "cells": [
  {
   "cell_type": "code",
   "execution_count": 1,
   "id": "9624bf9a",
   "metadata": {},
   "outputs": [],
   "source": [
    "# import libraries\n",
    "from pyopenms import *\n",
    "import os"
   ]
  },
  {
   "cell_type": "code",
   "execution_count": 2,
   "id": "2e379623",
   "metadata": {},
   "outputs": [],
   "source": [
    "# change directory to find file of interest\n",
    "os.chdir(r'C:\\Users\\miar\\Desktop\\data')"
   ]
  },
  {
   "cell_type": "code",
   "execution_count": 3,
   "id": "e62a98b7",
   "metadata": {},
   "outputs": [],
   "source": [
    "#------------------------------------------------------------------------------------------------------------------------------\n",
    "\n",
    "# ONLY NEED TO RUN THE NEXT TWO BLOCKS ONCE\n",
    "\n",
    "#-------------------------------------------------------------------------------------------------------------------------------"
   ]
  },
  {
   "cell_type": "code",
   "execution_count": 4,
   "id": "37311037",
   "metadata": {},
   "outputs": [],
   "source": [
    "# load the content of the mzML file into the exp variable of type MSExperiment\n",
    "#exp = MSExperiment()\n",
    "#MzMLFile().load(\"HEK293T_De_Novo_053122_Glu-C_B_correctRTSenzyme_BP.mzML\", exp)\n",
    "\n",
    "# access the raw data and spectra\n",
    "#spectrum_data = exp.getSpectrum(0).get_peaks()\n",
    "#spectrum_data"
   ]
  },
  {
   "cell_type": "code",
   "execution_count": 5,
   "id": "422c46f3",
   "metadata": {},
   "outputs": [],
   "source": [
    "# loop through the spectra to gather MS2 scans\n",
    "#specM2 = []\n",
    "#for s in exp.getSpectra():\n",
    "#    if s.getMSLevel() == 2:\n",
    "#        specM2.append(s)\n",
    "        \n",
    "#print(\"Number of MS2 scans: \" + str(len(specM2)))\n",
    "\n",
    "#exp.setSpectra(specM2) # keep only MS2\n",
    "\n",
    "# store the modified data structure on disk\n",
    "#MzMLFile().store(\"filtered_MS2.mzML\", exp)"
   ]
  },
  {
   "cell_type": "code",
   "execution_count": 6,
   "id": "fdc7c162",
   "metadata": {},
   "outputs": [],
   "source": [
    "# parse function\n",
    "def parseScanLine(input):\n",
    "    x = input.split(\" For: \")\n",
    "    [scan_number, mzs] = x[1].split(\", \")\n",
    "    [precursor_mz, fragment_mz] = mzs.split(\";\")\n",
    "    trimmed_fragment_mz = fragment_mz.strip() # trim fragment strings to remove \\n\n",
    "    return [scan_number, precursor_mz, trimmed_fragment_mz]"
   ]
  },
  {
   "cell_type": "code",
   "execution_count": 7,
   "id": "cd13a154",
   "metadata": {},
   "outputs": [],
   "source": [
    "# checking lines of log file and creating dictionary of scan numbers and fragment mzs\n",
    "try:\n",
    "  \n",
    "    # words to search for\n",
    "    search = ' Submitted Custom Scan For:'\n",
    "  \n",
    "    # reading file content line by line\n",
    "    search = ' Submitted Custom Scan For:'   # words to search for\n",
    "    \n",
    "    # dict for scan numbers and corresponding fragments \n",
    "    scan2frag = dict()\n",
    "    with open('App-2022-05-31_20-49-35.log') as f:\n",
    "        for line in f:\n",
    "            if search in line:\n",
    "                scan_number, precursor_mz, trimmed_fragment_mz = parseScanLine(line)\n",
    "                scan2frag[scan_number] = trimmed_fragment_mz\n",
    "            \n",
    "    # if the input string doesn't exist in the text file\n",
    "    if len(scan2frag)==0:\n",
    "        print(\"\\n\\\"\" +search+ \"\\\" is not found in \\\"\" +'App-2022-05-31_20-49-35.log'+ \"\\\"!\")\n",
    "    else:\n",
    "        pass\n",
    "\n",
    "except FileNotFoundError:\n",
    "    print(\"The file does not exist!\")"
   ]
  },
  {
   "cell_type": "code",
   "execution_count": 8,
   "id": "7f8dd029",
   "metadata": {},
   "outputs": [],
   "source": [
    "# load in MS2 scans\n",
    "exp1 = MSExperiment()\n",
    "MzMLFile().load(\"filtered_MS2.mzML\", exp1)"
   ]
  },
  {
   "cell_type": "code",
   "execution_count": 9,
   "id": "b73095ac",
   "metadata": {},
   "outputs": [],
   "source": [
    "# read in peptide sequence from tsv\n",
    "import pandas as pd\n",
    "tsv = pd.read_csv('HEK293T_De_Novo_053122_Glu-C_B_correctRTSenzyme_BP_realtimesearch1.tsv', sep='\\t')\n",
    "\n",
    "# create dictionary with scan # as key and sequence/charge as values\n",
    "scan2PeptideCharge = dict([(i, [x,y]) for i, x,y, in zip(tsv['Scan Number'], tsv['Peptide'], tsv['Charge State'])])\n",
    "\n",
    "# removing all NaN sequences (not useful)\n",
    "scan2PeptideCharge_modified = {k:v for k,v in scan2PeptideCharge.items() if str(v[0]) != 'nan'}"
   ]
  },
  {
   "cell_type": "code",
   "execution_count": 10,
   "id": "999823a6",
   "metadata": {},
   "outputs": [],
   "source": [
    "def findFragments(peptide_object, charge):\n",
    "    # loop through each prefix and suffix (b and y ions, respectively)\n",
    "    # y and b ions\n",
    "    y_ions = []\n",
    "    b_ions = []\n",
    "    for i in range(1, (peptide_object.size())): # start at index of 1, end at peptide length - 1\n",
    "        y_ions.append(peptide_object.getSuffix(i))\n",
    "        b_ions.append(peptide_object.getPrefix(i))\n",
    "        \n",
    "    def loopChargeStates():\n",
    "        # computing fragment mzs\n",
    "        # compute all y_ion mzs\n",
    "        y_ion_mzs = []\n",
    "        for i in y_ions[::-1]:\n",
    "            for x in range(1, charge):\n",
    "                mz_y = i.getMonoWeight(Residue.ResidueType.YIon, x) / x\n",
    "                y_ion_mzs.append(mz_y)   \n",
    "        # compute all b_ion mzs\n",
    "        b_ion_mzs = []\n",
    "        for i in b_ions:\n",
    "            for x in range(1, charge):\n",
    "                mz_b = i.getMonoWeight(Residue.ResidueType.BIon, x) / x\n",
    "                b_ion_mzs.append(mz_b)\n",
    "        return y_ion_mzs, b_ion_mzs\n",
    "    \n",
    "    # call nested function\n",
    "    y_ion_mzs, b_ion_mzs = loopChargeStates()\n",
    "\n",
    "    y_indices = []\n",
    "    for i in y_ion_mzs:\n",
    "        y_indices.append(s.findNearest(i, 0.4))\n",
    "    b_indices = []\n",
    "    for i in b_ion_mzs:\n",
    "        b_indices.append(s.findNearest(i, 0.4))\n",
    "\n",
    "    return y_indices, b_indices"
   ]
  },
  {
   "cell_type": "code",
   "execution_count": 11,
   "id": "9994a766",
   "metadata": {},
   "outputs": [],
   "source": [
    "y_indices = []\n",
    "b_indices = []\n",
    "for s in exp1:\n",
    "    s_number = s.getNativeID().split(' ')[-1]\n",
    "    _, scan_number = s_number.split('=')\n",
    "    \n",
    "    if scan_number in scan2frag and int(scan_number) in scan2PeptideCharge_modified:\n",
    "        # isolate peptide sequence from dict\n",
    "        sequence = scan2PeptideCharge_modified[int(scan_number)][0]     \n",
    "        trimmed_sequence = sequence[2:-2] # remove first two and last two characters \n",
    "        \n",
    "        # isolate charge from dict\n",
    "        charge = scan2PeptideCharge_modified[int(scan_number)][1]\n",
    "        \n",
    "        # create peptide object \n",
    "        peptide_object = AASequence.fromString(trimmed_sequence)\n",
    "        \n",
    "        # call findFragments function\n",
    "        y, b = findFragments(peptide_object, charge)\n",
    "        y_indices.append(y)\n",
    "        b_indices.append(b)\n",
    "    \n",
    "    else: \n",
    "        pass "
   ]
  },
  {
   "cell_type": "code",
   "execution_count": 12,
   "id": "7fe05728",
   "metadata": {},
   "outputs": [],
   "source": [
    "spectrum_list = []\n",
    "scans_list = []\n",
    "for s in exp1:\n",
    "    s_number = s.getNativeID().split(' ')[-1]\n",
    "    _, scan_number = s_number.split('=')\n",
    "    \n",
    "    if scan_number in scan2frag and int(scan_number) in scan2PeptideCharge_modified:\n",
    "        spectrum_list.append(s)\n",
    "        scans_list.append(scan_number)\n",
    "        "
   ]
  },
  {
   "cell_type": "code",
   "execution_count": null,
   "id": "42699828",
   "metadata": {},
   "outputs": [],
   "source": []
  },
  {
   "cell_type": "code",
   "execution_count": null,
   "id": "4dd98817",
   "metadata": {},
   "outputs": [],
   "source": []
  },
  {
   "cell_type": "code",
   "execution_count": null,
   "id": "dc839302",
   "metadata": {},
   "outputs": [],
   "source": []
  },
  {
   "cell_type": "code",
   "execution_count": null,
   "id": "84792c90",
   "metadata": {},
   "outputs": [],
   "source": []
  },
  {
   "cell_type": "code",
   "execution_count": null,
   "id": "4cffaf8b",
   "metadata": {},
   "outputs": [],
   "source": []
  },
  {
   "cell_type": "code",
   "execution_count": null,
   "id": "7ce9ad4d",
   "metadata": {},
   "outputs": [],
   "source": [
    "# the following code is checking for how many fragments are missing from just the first peptide sequence "
   ]
  },
  {
   "cell_type": "code",
   "execution_count": 16,
   "id": "2d1f0b99",
   "metadata": {},
   "outputs": [],
   "source": [
    "sequence = scan2PeptideCharge_modified[1707][0]     \n",
    "trimmed_sequence = sequence[2:-2] # remove first two and last two characters       "
   ]
  },
  {
   "cell_type": "code",
   "execution_count": 17,
   "id": "66c1a705",
   "metadata": {},
   "outputs": [
    {
     "data": {
      "text/plain": [
       "'ASPDPMLEPM[15.9949]SWRGNIHE'"
      ]
     },
     "execution_count": 17,
     "metadata": {},
     "output_type": "execute_result"
    }
   ],
   "source": [
    "trimmed_sequence"
   ]
  },
  {
   "cell_type": "code",
   "execution_count": 18,
   "id": "2059e23a",
   "metadata": {},
   "outputs": [],
   "source": [
    "peptide_object = AASequence.fromString(trimmed_sequence)"
   ]
  },
  {
   "cell_type": "code",
   "execution_count": 19,
   "id": "0eda013a",
   "metadata": {},
   "outputs": [
    {
     "data": {
      "text/plain": [
       "18"
      ]
     },
     "execution_count": 19,
     "metadata": {},
     "output_type": "execute_result"
    }
   ],
   "source": [
    "peptide_object.size()"
   ]
  },
  {
   "cell_type": "code",
   "execution_count": 20,
   "id": "b4eaba9c",
   "metadata": {},
   "outputs": [],
   "source": [
    "y_ions = []\n",
    "b_ions = []\n",
    "for i in range(1, (peptide_object.size())): # start at index of 1, end at peptide length - 1\n",
    "    y_ions.append(peptide_object.getSuffix(i))\n",
    "    b_ions.append(peptide_object.getPrefix(i))\n",
    "        "
   ]
  },
  {
   "cell_type": "code",
   "execution_count": 21,
   "id": "1620dd86",
   "metadata": {},
   "outputs": [
    {
     "name": "stdout",
     "output_type": "stream",
     "text": [
      "A\n"
     ]
    }
   ],
   "source": [
    "# b1\n",
    "print(b_ions[0])"
   ]
  },
  {
   "cell_type": "code",
   "execution_count": 22,
   "id": "503fc0cd",
   "metadata": {},
   "outputs": [
    {
     "name": "stdout",
     "output_type": "stream",
     "text": [
      "SPDPMLEPM[15.9949]SWRGNIHE\n"
     ]
    }
   ],
   "source": [
    "# y16\n",
    "print(y_ions[::-1][0]) # reverse the list indexing "
   ]
  },
  {
   "cell_type": "code",
   "execution_count": 23,
   "id": "ac866814",
   "metadata": {},
   "outputs": [
    {
     "name": "stdout",
     "output_type": "stream",
     "text": [
      "3\n"
     ]
    }
   ],
   "source": [
    "charge = scan2PeptideCharge_modified[1707][1]\n",
    "print(charge)"
   ]
  },
  {
   "cell_type": "code",
   "execution_count": null,
   "id": "0d7e06dd",
   "metadata": {},
   "outputs": [],
   "source": []
  },
  {
   "cell_type": "code",
   "execution_count": null,
   "id": "2b6c5d5e",
   "metadata": {},
   "outputs": [],
   "source": []
  },
  {
   "cell_type": "code",
   "execution_count": null,
   "id": "08b82f01",
   "metadata": {},
   "outputs": [],
   "source": []
  },
  {
   "cell_type": "code",
   "execution_count": 24,
   "id": "086d8360",
   "metadata": {},
   "outputs": [],
   "source": [
    "# finding bs\n",
    "def testingBs(fragment_index):\n",
    "    global mz1, indb\n",
    "    mz1 = []\n",
    "    for charge_state in range(1, charge):\n",
    "        mz1.append(b_ions[fragment_index].getMonoWeight(Residue.ResidueType.BIon, charge_state) / charge_state)\n",
    "        \n",
    "test1 = []\n",
    "for i in range(len(b_ions)):\n",
    "    testingBs(i)\n",
    "    test1.append(mz1)\n",
    "    \n",
    "indb = []\n",
    "for z in range(len(test1)):\n",
    "    for i in test1[z]:\n",
    "        indb.append(spectrum_list[0].findNearest(i, 0.4))\n",
    "\n",
    "# call the function\n",
    "testingBs(0)"
   ]
  },
  {
   "cell_type": "code",
   "execution_count": 29,
   "id": "e522fe88",
   "metadata": {},
   "outputs": [],
   "source": [
    "# finding ys\n",
    "def testingYs(fragment_index):\n",
    "    global mz2, indy\n",
    "    mz2 = []\n",
    "    for charge_state in range(1, charge):\n",
    "        mz2.append(y_ions[fragment_index].getMonoWeight(Residue.ResidueType.YIon, charge_state) / charge_state)\n",
    "        \n",
    "test2 = []\n",
    "for i in range(len(y_ions)):\n",
    "    testingYs(i)\n",
    "    test2.append(mz2)\n",
    "\n",
    "indy = []\n",
    "for z in range(len(test2)):\n",
    "    for i in test2[z]:\n",
    "        indy.append(spectrum_list[0].findNearest(i, 0.4))\n",
    "\n",
    "# call the function\n",
    "testingYs(0)"
   ]
  },
  {
   "cell_type": "code",
   "execution_count": 39,
   "id": "7187381d",
   "metadata": {},
   "outputs": [
    {
     "name": "stdout",
     "output_type": "stream",
     "text": [
      "At least one ion (b or y) has at least one charge state that was found in the MS2\n"
     ]
    }
   ],
   "source": [
    "# skim list for each corresponding y and b fragments based on charge states \n",
    "def skimList(fragment_index, charge):\n",
    "    checkb = indb[fragment_index:fragment_index+charge-1]\n",
    "    checky = indy[fragment_index:fragment_index+charge-1]\n",
    "    return checkb, checky\n",
    "\n",
    "# check after every two mz (two possible charge states), so index as such: 0,2,4,6,etc\n",
    "checkb, checky = skimList(0, 3)\n",
    "\n",
    "if all(item == checkb[0] for item in checkb and checky):\n",
    "    print('All elements have a value of -1...we cannot uncover this fragment')\n",
    "else: \n",
    "    print('At least one ion (b or y) has at least one charge state that was found in the MS2')"
   ]
  },
  {
   "cell_type": "code",
   "execution_count": 38,
   "id": "249a0dd3",
   "metadata": {},
   "outputs": [
    {
     "name": "stdout",
     "output_type": "stream",
     "text": [
      "At least one ion (b or y) has at least one charge state that was found in the MS2\n",
      "At least one ion (b or y) has at least one charge state that was found in the MS2\n",
      "At least one ion (b or y) has at least one charge state that was found in the MS2\n",
      "All elements have a value of -1...we cannot uncover this fragment\n",
      "At least one ion (b or y) has at least one charge state that was found in the MS2\n",
      "At least one ion (b or y) has at least one charge state that was found in the MS2\n",
      "At least one ion (b or y) has at least one charge state that was found in the MS2\n",
      "All elements have a value of -1...we cannot uncover this fragment\n",
      "At least one ion (b or y) has at least one charge state that was found in the MS2\n",
      "At least one ion (b or y) has at least one charge state that was found in the MS2\n",
      "All elements have a value of -1...we cannot uncover this fragment\n",
      "All elements have a value of -1...we cannot uncover this fragment\n",
      "All elements have a value of -1...we cannot uncover this fragment\n",
      "All elements have a value of -1...we cannot uncover this fragment\n",
      "All elements have a value of -1...we cannot uncover this fragment\n",
      "All elements have a value of -1...we cannot uncover this fragment\n",
      "All elements have a value of -1...we cannot uncover this fragment\n"
     ]
    }
   ],
   "source": [
    "# for every fragment \n",
    "for x in range(0, len(indy), 2):\n",
    "    checkb, checky = skimList(x, charge)\n",
    "    if all(item == checkb[0] for item in checkb and checky):\n",
    "        print('All elements have a value of -1...we cannot uncover this fragment')\n",
    "    else: \n",
    "        print('At least one ion (b or y) has at least one charge state that was found in the MS2')"
   ]
  },
  {
   "cell_type": "code",
   "execution_count": null,
   "id": "0030441c",
   "metadata": {},
   "outputs": [],
   "source": []
  },
  {
   "cell_type": "code",
   "execution_count": null,
   "id": "5b1c107b",
   "metadata": {},
   "outputs": [],
   "source": []
  },
  {
   "cell_type": "code",
   "execution_count": null,
   "id": "2b4d00df",
   "metadata": {},
   "outputs": [],
   "source": []
  }
 ],
 "metadata": {
  "kernelspec": {
   "display_name": "Python 3 (ipykernel)",
   "language": "python",
   "name": "python3"
  },
  "language_info": {
   "codemirror_mode": {
    "name": "ipython",
    "version": 3
   },
   "file_extension": ".py",
   "mimetype": "text/x-python",
   "name": "python",
   "nbconvert_exporter": "python",
   "pygments_lexer": "ipython3",
   "version": "3.9.12"
  }
 },
 "nbformat": 4,
 "nbformat_minor": 5
}
