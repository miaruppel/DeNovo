{
 "cells": [
  {
   "cell_type": "code",
   "execution_count": 1,
   "id": "9624bf9a",
   "metadata": {},
   "outputs": [],
   "source": [
    "# import libraries\n",
    "from pyopenms import *\n",
    "import os"
   ]
  },
  {
   "cell_type": "code",
   "execution_count": 2,
   "id": "2e379623",
   "metadata": {},
   "outputs": [],
   "source": [
    "# change directory to find file of interest\n",
    "os.chdir(r'C:\\Users\\miar\\Desktop\\data')"
   ]
  },
  {
   "cell_type": "code",
   "execution_count": 3,
   "id": "e62a98b7",
   "metadata": {},
   "outputs": [],
   "source": [
    "#------------------------------------------------------------------------------------------------------------------------------\n",
    "\n",
    "# ONLY NEED TO RUN THE NEXT TWO BLOCKS ONCE\n",
    "\n",
    "#-------------------------------------------------------------------------------------------------------------------------------"
   ]
  },
  {
   "cell_type": "code",
   "execution_count": 4,
   "id": "37311037",
   "metadata": {},
   "outputs": [],
   "source": [
    "# load the content of the mzML file into the exp variable of type MSExperiment\n",
    "#exp = MSExperiment()\n",
    "#MzMLFile().load(\"HEK293T_De_Novo_053122_Glu-C_B_correctRTSenzyme_BP.mzML\", exp)\n",
    "\n",
    "# access the raw data and spectra\n",
    "#spectrum_data = exp.getSpectrum(0).get_peaks()\n",
    "#spectrum_data"
   ]
  },
  {
   "cell_type": "code",
   "execution_count": 5,
   "id": "422c46f3",
   "metadata": {},
   "outputs": [],
   "source": [
    "# loop through the spectra to gather MS2 scans\n",
    "#specM2 = []\n",
    "#for s in exp.getSpectra():\n",
    "#    if s.getMSLevel() == 2:\n",
    "#        specM2.append(s)\n",
    "        \n",
    "#print(\"Number of MS2 scans: \" + str(len(specM2)))\n",
    "\n",
    "#exp.setSpectra(specM2) # keep only MS2\n",
    "\n",
    "# store the modified data structure on disk\n",
    "#MzMLFile().store(\"filtered_MS2.mzML\", exp)"
   ]
  },
  {
   "cell_type": "code",
   "execution_count": 6,
   "id": "fdc7c162",
   "metadata": {},
   "outputs": [],
   "source": [
    "# parse functions\n",
    "def parseScanLine(input):\n",
    "    x = input.split(\" For: \")\n",
    "    [scan_number, mzs] = x[1].split(\", \")\n",
    "    [precursor_mz, fragment_mz] = mzs.split(\";\")\n",
    "    trimmed_fragment_mz = fragment_mz.strip() # trim fragment strings to remove \\n\n",
    "    return [scan_number, precursor_mz, trimmed_fragment_mz]\n",
    "\n",
    "def parseTargetIons(input):\n",
    "    i = input.split('Target Fragment: ')\n",
    "    ion = i[1].split(',')[0]\n",
    "    return ion "
   ]
  },
  {
   "cell_type": "code",
   "execution_count": 7,
   "id": "cd13a154",
   "metadata": {},
   "outputs": [],
   "source": [
    "# checking lines of log file and creating dictionary of scan numbers and fragment mzs\n",
    "try:\n",
    "  \n",
    "    # words to search for\n",
    "    search = ' Submitted Custom Scan For:'\n",
    "    search_target = 'Target Fragment:'\n",
    "    \n",
    "    # dict for scan numbers and corresponding fragments \n",
    "    scan2frag = dict()\n",
    "    target_values = []\n",
    "    with open('App-2022-05-31_20-49-35.log') as f:\n",
    "        for line in f:\n",
    "            if search in line:\n",
    "                scan_number, precursor_mz, trimmed_fragment_mz = parseScanLine(line)\n",
    "                scan2frag[scan_number] = trimmed_fragment_mz\n",
    "            elif search_target in line:\n",
    "                target_ion = parseTargetIons(line)\n",
    "                target_values.append(target_ion) #to add to final dataframe\n",
    "            \n",
    "    # if the input string doesn't exist in the text file\n",
    "    if len(scan2frag)==0:\n",
    "        print(\"\\n\\\"\" +search+ \"\\\" is not found in \\\"\" +'App-2022-05-31_20-49-35.log'+ \"\\\"!\")\n",
    "\n",
    "except FileNotFoundError:\n",
    "    print(\"The file does not exist!\")"
   ]
  },
  {
   "cell_type": "code",
   "execution_count": 8,
   "id": "7f8dd029",
   "metadata": {},
   "outputs": [],
   "source": [
    "# load in MS2 scans\n",
    "exp1 = MSExperiment()\n",
    "MzMLFile().load(\"filtered_MS2.mzML\", exp1)"
   ]
  },
  {
   "cell_type": "code",
   "execution_count": 9,
   "id": "b73095ac",
   "metadata": {},
   "outputs": [],
   "source": [
    "# read in peptide sequence from tsv\n",
    "import pandas as pd\n",
    "tsv = pd.read_csv('HEK293T_De_Novo_053122_Glu-C_B_correctRTSenzyme_BP_realtimesearch1.tsv', sep='\\t')\n",
    "\n",
    "# create dictionary with scan # as key and sequence/charge as values\n",
    "scan2PeptideCharge = dict([(i, [x,y]) for i, x,y, in zip(tsv['Scan Number'], tsv['Peptide'], tsv['Charge State'])])\n",
    "\n",
    "# removing all NaN sequences (not useful)\n",
    "scan2PeptideCharge_modified = {k:v for k,v in scan2PeptideCharge.items() if str(v[0]) != 'nan'}"
   ]
  },
  {
   "cell_type": "code",
   "execution_count": 10,
   "id": "2680351a",
   "metadata": {},
   "outputs": [],
   "source": [
    "def findFragments(peptide_object, charge):\n",
    "    # loop through each prefix and suffix (b and y ions, respectively)\n",
    "    # y and b ions\n",
    "\n",
    "    b_index = []\n",
    "    y_index = []\n",
    "    for ion in range(1, (peptide_object.size())): # start at index of 1, end at peptide length - 1\n",
    "        y_ion = peptide_object.getSuffix(ion)\n",
    "        b_ion = peptide_object.getPrefix(ion)\n",
    "\n",
    "        for z in range(1, charge):\n",
    "            mz_b = b_ion.getMonoWeight(Residue.ResidueType.BIon, z) / z\n",
    "            b_index.append(s.findNearest(mz_b, 0.4))\n",
    "\n",
    "            mz_y = y_ion.getMonoWeight(Residue.ResidueType.YIon, z) / z\n",
    "            y_index.append(s.findNearest(mz_y, 0.4))\n",
    "\n",
    "    y_index.reverse() # reverse list (the first b ion corresponds with the last y ion)\n",
    "    \n",
    "    # skim list for each corresponding y and b fragments based on charge states\n",
    "    count = 0\n",
    "    missing_list = []\n",
    "    for fragment_index in range(0, len(y_index), charge-1): # check after 'x' mzs (possible charge states)\n",
    "        \n",
    "        count = count + 1\n",
    "        \n",
    "        check_b = b_index[fragment_index : fragment_index+charge-1]\n",
    "        check_y = y_index[fragment_index : fragment_index+charge-1]\n",
    "\n",
    "        if all(item == -1 for item in check_b) and all(item == -1 for item in check_y):\n",
    "            missing_list.append(str(count))\n",
    "        \n",
    "        number_missing = len(missing_list)\n",
    "        missing_list_mod = \",\".join(str(i) for i in missing_list)\n",
    "\n",
    "    return missing_list_mod, number_missing"
   ]
  },
  {
   "cell_type": "code",
   "execution_count": 11,
   "id": "9994a766",
   "metadata": {},
   "outputs": [],
   "source": [
    "#from prettytable import PrettyTable \n",
    "#myTable = PrettyTable([\"Scan Number\", \"Sequence\", \"Sequence Length\", \"Missing Fragment Locations\"])\n",
    "\n",
    "table_rows = []\n",
    "for s in exp1:\n",
    "    s_number = s.getNativeID().split(' ')[-1]\n",
    "    _, scan_number = s_number.split('=')\n",
    "    \n",
    "    if scan_number in scan2frag and int(scan_number) in scan2PeptideCharge_modified:\n",
    "        # isolate peptide sequence from dict\n",
    "        sequence = scan2PeptideCharge_modified[int(scan_number)][0]     \n",
    "        trimmed_sequence = sequence[2:-2] # remove first two and last two characters \n",
    "        \n",
    "        # isolate charge from dict\n",
    "        charge = scan2PeptideCharge_modified[int(scan_number)][1]\n",
    " \n",
    "        # create peptide object \n",
    "        peptide_object = AASequence.fromString(trimmed_sequence)\n",
    "        \n",
    "        # call findFragments function\n",
    "        missing_list_mod, number_missing = findFragments(peptide_object, charge)\n",
    "        \n",
    "        # creating table\n",
    "        #myTable.add_row([scan_number, trimmed_sequence, peptide_object.size(), missing_list])\n",
    "        add_row = {'Scan_Number':scan_number, \n",
    "                'Sequence':trimmed_sequence,\n",
    "                'Sequence_Length':peptide_object.size(),\n",
    "                'Missing_Fragment_Locations':missing_list_mod,\n",
    "                   'Number_Missing':number_missing}\n",
    "        table_rows.append(add_row)"
   ]
  },
  {
   "cell_type": "code",
   "execution_count": 12,
   "id": "f09eec87",
   "metadata": {},
   "outputs": [],
   "source": [
    "# create dataframe to be exported as table later \n",
    "df = pd.DataFrame(table_rows)\n",
    "# add targeted fragment column\n",
    "fragment_df = df.assign(Target_Fragment=target_values)"
   ]
  },
  {
   "cell_type": "code",
   "execution_count": 13,
   "id": "caf4e3a1",
   "metadata": {},
   "outputs": [],
   "source": [
    "# export df to tsv \n",
    "fragment_df.to_csv('fragmentInfoTable.tsv', sep=' ', index=False)"
   ]
  },
  {
   "cell_type": "code",
   "execution_count": 14,
   "id": "6973f421",
   "metadata": {},
   "outputs": [],
   "source": [
    "# perform table modifications and plot histograms in R...\n",
    "# ...\n",
    "# ..."
   ]
  },
  {
   "cell_type": "code",
   "execution_count": 19,
   "id": "69590a93",
   "metadata": {},
   "outputs": [],
   "source": [
    "# read in modified table\n",
    "checktargets_df = pd.read_csv('fragmentInfoTable_altered.tsv', sep=\"/t\", engine='python')"
   ]
  },
  {
   "cell_type": "code",
   "execution_count": 16,
   "id": "28eda125",
   "metadata": {},
   "outputs": [],
   "source": [
    "# peek at the first 20 rows for manually checking if subsequent code has expected output\n",
    "#checktargets_df.loc[0:20]"
   ]
  },
  {
   "cell_type": "code",
   "execution_count": 17,
   "id": "793d92dd",
   "metadata": {},
   "outputs": [],
   "source": [
    "yes = []\n",
    "no = []\n",
    "for i in checktargets_df.index:\n",
    "    if checktargets_df['\"Target_Fragment\"'][i].startswith('\"y'):\n",
    "        if str(checktargets_df.loc[i]['\"cTerminusEnd\"']) != 'nan' and int(checktargets_df['\"Target_Fragment\"'][i][-2]) >= int(checktargets_df['\"cTerminusEnd\"'][i]):\n",
    "            yes.append('Yes, the target y ion could help us find the missing fragment')\n",
    "        else:\n",
    "            no.append('No...the target y ion does not help us')\n",
    "    elif checktargets_df['\"Target_Fragment\"'][i].startswith('\"b'):\n",
    "        if str(checktargets_df.loc[i]['\"nTerminusEnd\"']) != 'nan' and int(checktargets_df['\"Target_Fragment\"'][i][-2]) >= int(checktargets_df['\"nTerminusEnd\"'][i]):\n",
    "             yes.append('Yes, the target b ion could help us find the missing fragment')\n",
    "        else: \n",
    "            no.append('No...the target b ion does not help us')\n",
    "            \n",
    "            "
   ]
  },
  {
   "cell_type": "code",
   "execution_count": 18,
   "id": "160fbc61",
   "metadata": {},
   "outputs": [
    {
     "data": {
      "image/png": "[encoded data removed]",
      "text/plain": [
       "<Figure size 432x288 with 1 Axes>"
      ]
     },
     "metadata": {
      "needs_background": "light"
     },
     "output_type": "display_data"
    }
   ],
   "source": [
    "import matplotlib.pyplot as plt\n",
    "plt.bar('Yes, the targeted ion helps', len(yes))\n",
    "plt.bar('No, the targeted ion does not help', len(no))\n",
    "plt.show()"
   ]
  },
  {
   "cell_type": "code",
   "execution_count": null,
   "id": "779b4a56",
   "metadata": {},
   "outputs": [],
   "source": []
  }
 ],
 "metadata": {
  "kernelspec": {
   "display_name": "Python 3 (ipykernel)",
   "language": "python",
   "name": "python3"
  },
  "language_info": {
   "codemirror_mode": {
    "name": "ipython",
    "version": 3
   },
   "file_extension": ".py",
   "mimetype": "text/x-python",
   "name": "python",
   "nbconvert_exporter": "python",
   "pygments_lexer": "ipython3",
   "version": "3.9.12"
  }
 },
 "nbformat": 4,
 "nbformat_minor": 5
}
