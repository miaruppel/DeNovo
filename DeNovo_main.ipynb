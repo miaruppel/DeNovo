{
 "cells": [
  {
   "cell_type": "code",
   "execution_count": 1,
   "id": "9624bf9a",
   "metadata": {},
   "outputs": [],
   "source": [
    "# import libraries\n",
    "from pyopenms import *\n",
    "import os"
   ]
  },
  {
   "cell_type": "code",
   "execution_count": 2,
   "id": "2e379623",
   "metadata": {},
   "outputs": [],
   "source": [
    "# change directory to find file of interest\n",
    "os.chdir(r'C:\\Users\\miar\\Desktop\\data')"
   ]
  },
  {
   "cell_type": "code",
   "execution_count": 3,
   "id": "e62a98b7",
   "metadata": {},
   "outputs": [],
   "source": [
    "#------------------------------------------------------------------------------------------------------------------------------\n",
    "\n",
    "# ONLY NEED TO RUN THE NEXT TWO BLOCKS ONCE\n",
    "\n",
    "#-------------------------------------------------------------------------------------------------------------------------------"
   ]
  },
  {
   "cell_type": "code",
   "execution_count": 4,
   "id": "37311037",
   "metadata": {},
   "outputs": [],
   "source": [
    "# load the content of the mzML file into the exp variable of type MSExperiment\n",
    "#exp = MSExperiment()\n",
    "#MzMLFile().load(\"HEK293T_De_Novo_053122_Glu-C_B_correctRTSenzyme_BP.mzML\", exp)\n",
    "\n",
    "# access the raw data and spectra\n",
    "#spectrum_data = exp.getSpectrum(0).get_peaks()\n",
    "#spectrum_data"
   ]
  },
  {
   "cell_type": "code",
   "execution_count": 5,
   "id": "422c46f3",
   "metadata": {},
   "outputs": [],
   "source": [
    "# loop through the spectra to gather MS2 scans\n",
    "#specM2 = []\n",
    "#for s in exp.getSpectra():\n",
    "#    if s.getMSLevel() == 2:\n",
    "#        specM2.append(s)\n",
    "        \n",
    "#print(\"Number of MS2 scans: \" + str(len(specM2)))\n",
    "\n",
    "#exp.setSpectra(specM2) # keep only MS2\n",
    "\n",
    "# store the modified data structure on disk\n",
    "#MzMLFile().store(\"filtered_MS2.mzML\", exp)"
   ]
  },
  {
   "cell_type": "code",
   "execution_count": 6,
   "id": "fdc7c162",
   "metadata": {},
   "outputs": [],
   "source": [
    "# parse function\n",
    "def parseScanLine(input):\n",
    "    x = input.split(\" For: \")\n",
    "    [scan_number, mzs] = x[1].split(\", \")\n",
    "    [precursor_mz, fragment_mz] = mzs.split(\";\")\n",
    "    trimmed_fragment_mz = fragment_mz.strip() # trim fragment strings to remove \\n\n",
    "    return [scan_number, precursor_mz, trimmed_fragment_mz]"
   ]
  },
  {
   "cell_type": "code",
   "execution_count": 7,
   "id": "cd13a154",
   "metadata": {},
   "outputs": [],
   "source": [
    "# checking lines of log file and creating dictionary of scan numbers and fragment mzs\n",
    "try:\n",
    "  \n",
    "    # words to search for\n",
    "    search = ' Submitted Custom Scan For:'\n",
    "  \n",
    "    # reading file content line by line\n",
    "    search = ' Submitted Custom Scan For:'   # words to search for\n",
    "    \n",
    "    # dict for scan numbers and corresponding fragments \n",
    "    scan2frag = dict()\n",
    "    with open('App-2022-05-31_20-49-35.log') as f:\n",
    "        for line in f:\n",
    "            if search in line:\n",
    "                scan_number, precursor_mz, trimmed_fragment_mz = parseScanLine(line)\n",
    "                scan2frag[scan_number] = trimmed_fragment_mz\n",
    "            \n",
    "    # if the input string doesn't exist in the text file\n",
    "    if len(scan2frag)==0:\n",
    "        print(\"\\n\\\"\" +search+ \"\\\" is not found in \\\"\" +'App-2022-05-31_20-49-35.log'+ \"\\\"!\")\n",
    "    else:\n",
    "        pass\n",
    "\n",
    "except FileNotFoundError:\n",
    "    print(\"The file does not exist!\")"
   ]
  },
  {
   "cell_type": "code",
   "execution_count": 8,
   "id": "7f8dd029",
   "metadata": {},
   "outputs": [],
   "source": [
    "# load in MS2 scans\n",
    "exp1 = MSExperiment()\n",
    "MzMLFile().load(\"filtered_MS2.mzML\", exp1)"
   ]
  },
  {
   "cell_type": "code",
   "execution_count": 9,
   "id": "b73095ac",
   "metadata": {},
   "outputs": [],
   "source": [
    "# read in peptide sequence from tsv\n",
    "import pandas as pd\n",
    "tsv = pd.read_csv('HEK293T_De_Novo_053122_Glu-C_B_correctRTSenzyme_BP_realtimesearch1.tsv', sep='\\t')\n",
    "\n",
    "# create dictionary with scan # as key and sequence/charge as values\n",
    "scan2PeptideCharge = dict([(i, [x,y]) for i, x,y, in zip(tsv['Scan Number'], tsv['Peptide'], tsv['Charge State'])])\n",
    "\n",
    "# removing all NaN sequences (not useful)\n",
    "scan2PeptideCharge_modified = {k:v for k,v in scan2PeptideCharge.items() if str(v[0]) != 'nan'}"
   ]
  },
  {
   "cell_type": "code",
   "execution_count": 10,
   "id": "2680351a",
   "metadata": {},
   "outputs": [],
   "source": [
    "def findFragments(peptide_object, charge):\n",
    "    # loop through each prefix and suffix (b and y ions, respectively)\n",
    "    # y and b ions\n",
    "\n",
    "    b_index = []\n",
    "    y_index = []\n",
    "    for i in range(1, (peptide_object.size())): # start at index of 1, end at peptide length - 1\n",
    "        y_ion = peptide_object.getSuffix(i)\n",
    "        b_ion = peptide_object.getPrefix(i)\n",
    "\n",
    "        for x in range(1, charge):\n",
    "            mz_b = b_ion.getMonoWeight(Residue.ResidueType.BIon, x) / x\n",
    "            b_index.append(s.findNearest(mz_b, 0.4))\n",
    "\n",
    "            mz_y = y_ion.getMonoWeight(Residue.ResidueType.YIon, x) / x\n",
    "            y_index.append(s.findNearest(mz_y, 0.4))\n",
    "\n",
    "    y_index.reverse() # reverse list (the first b ion corresponds with the last y ion)\n",
    "\n",
    "    return y_index, b_index"
   ]
  },
  {
   "cell_type": "code",
   "execution_count": 11,
   "id": "0acc05a7",
   "metadata": {},
   "outputs": [],
   "source": [
    "# skim list for each corresponding y and b fragments based on charge states \n",
    "def skimList(fragment_index, charge):\n",
    "    check_b = b[fragment_index:fragment_index+charge-1]\n",
    "    check_y = y[fragment_index:fragment_index+charge-1]\n",
    "    return check_b, check_y"
   ]
  },
  {
   "cell_type": "code",
   "execution_count": 12,
   "id": "9994a766",
   "metadata": {},
   "outputs": [],
   "source": [
    "from prettytable import PrettyTable \n",
    "\n",
    "myTable = PrettyTable([\"Scan Number\", \"Sequence\", \"Sequence Length\", \"Missing Fragment Locations\"])\n",
    "\n",
    "for s in exp1:\n",
    "    s_number = s.getNativeID().split(' ')[-1]\n",
    "    _, scan_number = s_number.split('=')\n",
    "    \n",
    "    if scan_number in scan2frag and int(scan_number) in scan2PeptideCharge_modified:\n",
    "        # isolate peptide sequence from dict\n",
    "        sequence = scan2PeptideCharge_modified[int(scan_number)][0]     \n",
    "        trimmed_sequence = sequence[2:-2] # remove first two and last two characters \n",
    "        \n",
    "        # isolate charge from dict\n",
    "        charge = scan2PeptideCharge_modified[int(scan_number)][1]\n",
    " \n",
    "        # create peptide object \n",
    "        peptide_object = AASequence.fromString(trimmed_sequence)\n",
    "        \n",
    "        # call findFragments function\n",
    "        y, b = findFragments(peptide_object, charge)\n",
    "        #y_indices.append(y)\n",
    "        #b_indices.append(b)\n",
    "        \n",
    "        # checking if every associated y and b ion has a -1 value (was not found in the spectrum)\n",
    "        count = 0\n",
    "        missing_list = []\n",
    "        for x in range(0, len(y), charge-1): # check after 'x' mzs (possible charge states)\n",
    "            \n",
    "            count = count + 1\n",
    "            \n",
    "            check_b, check_y = skimList(x, charge)\n",
    "\n",
    "            if all(item == -1 for item in check_b) and all(item == -1 for item in check_y):\n",
    "                missing_list.append(count)\n",
    "            else:\n",
    "                pass\n",
    "                \n",
    "        myTable.add_row([scan_number, trimmed_sequence, peptide_object.size(), missing_list])\n",
    "        \n",
    "    else: \n",
    "        pass "
   ]
  },
  {
   "cell_type": "code",
   "execution_count": 13,
   "id": "a995b49a",
   "metadata": {},
   "outputs": [
    {
     "data": {
      "text/html": [
       "<table>\n",
       "    <thead>\n",
       "        <tr>\n",
       "            <th>Scan Number</th>\n",
       "            <th>Sequence</th>\n",
       "            <th>Sequence Length</th>\n",
       "            <th>Missing Fragment Locations</th>\n",
       "        </tr>\n",
       "    </thead>\n",
       "    <tbody>\n",
       "        <tr>\n",
       "            <td>1707</td>\n",
       "            <td>ASPDPMLEPM[15.9949]SWRGNIHE</td>\n",
       "            <td>18</td>\n",
       "            <td>[1, 2, 4, 7, 10, 12]</td>\n",
       "        </tr>\n",
       "        <tr>\n",
       "            <td>2140</td>\n",
       "            <td>IFKNGSKRMIATVPLRHSIRD</td>\n",
       "            <td>21</td>\n",
       "            <td>[13]</td>\n",
       "        </tr>\n",
       "        <tr>\n",
       "            <td>2534</td>\n",
       "            <td>RQVPLASPSSM[15.9949]SAALRGISCYLKE</td>\n",
       "            <td>24</td>\n",
       "            <td>[1, 4, 5, 6, 8, 10, 13, 14, 16, 21, 22, 23]</td>\n",
       "        </tr>\n",
       "        <tr>\n",
       "            <td>3032</td>\n",
       "            <td>FLCQASVGKSPGNNAADPFE</td>\n",
       "            <td>20</td>\n",
       "            <td>[1, 2, 4, 5, 6, 7, 9, 11, 12, 13, 14, 15, 16, 17, 18, 19]</td>\n",
       "        </tr>\n",
       "        <tr>\n",
       "            <td>3148</td>\n",
       "            <td>KAQAIIATMGGTTLMASAHSWAKSSSFSCPE</td>\n",
       "            <td>31</td>\n",
       "            <td>[1, 2, 3, 4, 6, 8, 9, 11, 13, 15, 18, 19, 20, 21, 22, 23, 24, 26, 27, 28, 29, 30]</td>\n",
       "        </tr>\n",
       "        <tr>\n",
       "            <td>3582</td>\n",
       "            <td>KSSM[15.9949]KRKLPFTISPSRNE</td>\n",
       "            <td>18</td>\n",
       "            <td>[3, 4, 6, 10, 11, 13, 14, 16]</td>\n",
       "        </tr>\n",
       "        <tr>\n",
       "            <td>3716</td>\n",
       "            <td>AVCGAGPPSGLLPLPGPDPGPRGSQGSPTPTRAPASGPE</td>\n",
       "            <td>39</td>\n",
       "            <td>[1, 2, 3, 5, 6, 8, 9, 12, 14, 15, 18, 24, 26, 28, 32, 34, 36, 38]</td>\n",
       "        </tr>\n",
       "        <tr>\n",
       "            <td>4026</td>\n",
       "            <td>SRPTPMGPPPTSHFHVLAD</td>\n",
       "            <td>19</td>\n",
       "            <td>[1, 2, 9, 13, 15, 17, 18]</td>\n",
       "        </tr>\n",
       "        <tr>\n",
       "            <td>4027</td>\n",
       "            <td>SIYVIRGTLFSVAVSFTD</td>\n",
       "            <td>18</td>\n",
       "            <td>[1, 4, 5, 8, 9, 12, 14, 15, 16, 17]</td>\n",
       "        </tr>\n",
       "        <tr>\n",
       "            <td>4056</td>\n",
       "            <td>GRGPPGNPPRRM[15.9949]GRINHLRGPSPPPMAGGUGR</td>\n",
       "            <td>32</td>\n",
       "            <td>[1, 3, 10, 11, 15, 17, 23, 25, 29, 30]</td>\n",
       "        </tr>\n",
       "        <tr>\n",
       "            <td>4057</td>\n",
       "            <td>MASCAEPSEPSAPLPAGVPPLE</td>\n",
       "            <td>22</td>\n",
       "            <td>[4, 5, 7, 10, 14, 15, 16, 20]</td>\n",
       "        </tr>\n",
       "        <tr>\n",
       "            <td>4067</td>\n",
       "            <td>MCHTSHSSGCPMACPGSPCCVPSTCYPPE</td>\n",
       "            <td>29</td>\n",
       "            <td>[1, 2, 3, 4, 5, 6, 7, 8, 9, 10, 12, 13, 14, 15, 16, 17, 18, 19, 20, 21, 22, 23, 24, 25, 26, 27, 28]</td>\n",
       "        </tr>\n",
       "        <tr>\n",
       "            <td>4068</td>\n",
       "            <td>KLM[15.9949]QLNLCSNRLE</td>\n",
       "            <td>13</td>\n",
       "            <td>[2, 6]</td>\n",
       "        </tr>\n",
       "        <tr>\n",
       "            <td>4080</td>\n",
       "            <td>SVPPISQLPCTALSPVAQTHGSM[15.9949]LSPGAQPHD</td>\n",
       "            <td>32</td>\n",
       "            <td>[2, 4, 5, 6, 7, 8, 11, 13, 14, 15, 18, 19, 20, 21, 23, 24, 25, 27, 28, 30, 31]</td>\n",
       "        </tr>\n",
       "        <tr>\n",
       "            <td>4111</td>\n",
       "            <td>RFNHFSLTLNTNHGHILVD</td>\n",
       "            <td>19</td>\n",
       "            <td>[1, 2, 16, 17]</td>\n",
       "        </tr>\n",
       "        <tr>\n",
       "            <td>4130</td>\n",
       "            <td>VVSVRNYGAAFHLPTSQRGE</td>\n",
       "            <td>20</td>\n",
       "            <td>[2, 3, 10, 14, 15, 18, 19]</td>\n",
       "        </tr>\n",
       "        <tr>\n",
       "            <td>4140</td>\n",
       "            <td>SKVALSTCNGLHGM[15.9949]FE</td>\n",
       "            <td>16</td>\n",
       "            <td>[1, 4, 10, 12, 13]</td>\n",
       "        </tr>\n",
       "        <tr>\n",
       "            <td>4149</td>\n",
       "            <td>RRYCNSHLQVLGFIPKKE</td>\n",
       "            <td>18</td>\n",
       "            <td>[1, 2, 7]</td>\n",
       "        </tr>\n",
       "        <tr>\n",
       "            <td>4150</td>\n",
       "            <td>KPATDPVLQVVYKSQGKE</td>\n",
       "            <td>18</td>\n",
       "            <td>[3, 5, 7, 12, 15]</td>\n",
       "        </tr>\n",
       "        <tr>\n",
       "            <td>4171</td>\n",
       "            <td>MPRAQPSSASYQPVPADPFAIVSRAQQM[15.9949]VE</td>\n",
       "            <td>30</td>\n",
       "            <td>[12, 13, 20, 21, 25, 29]</td>\n",
       "        </tr>\n",
       "        <tr>\n",
       "            <td>4176</td>\n",
       "            <td>SFWSCNVTFNISSKSILVD</td>\n",
       "            <td>19</td>\n",
       "            <td>[1, 4, 5, 6, 11, 16, 17, 18]</td>\n",
       "        </tr>\n",
       "        <tr>\n",
       "            <td>4195</td>\n",
       "            <td>IQSYSSLTAAPFE</td>\n",
       "            <td>13</td>\n",
       "            <td>[2, 3, 4, 8, 12]</td>\n",
       "        </tr>\n",
       "        <tr>\n",
       "            <td>4209</td>\n",
       "            <td>GQAAARGAGPRLLLLLLLPLPLPLPLLQLVGRRPGAAGRSGSAWRRAQLGM[15.9949]</td>\n",
       "            <td>51</td>\n",
       "            <td>[1, 2, 3, 4, 5, 6, 7, 9, 10, 11, 12, 13, 14, 15, 16, 17, 18, 19, 20, 21, 22, 23, 24, 25, 26, 27, 28, 29, 30, 31, 33, 34, 35, 36, 37, 38, 39, 40, 41, 42, 43, 44, 45, 46, 47, 48, 49, 50]</td>\n",
       "        </tr>\n",
       "        <tr>\n",
       "            <td>4214</td>\n",
       "            <td>HAVVVGVYRPPPKVKN</td>\n",
       "            <td>16</td>\n",
       "            <td>[12, 15]</td>\n",
       "        </tr>\n",
       "        <tr>\n",
       "            <td>4231</td>\n",
       "            <td>WGTRAKLHTVAICFQRGSE</td>\n",
       "            <td>19</td>\n",
       "            <td>[1, 4, 8, 11, 13, 17]</td>\n",
       "        </tr>\n",
       "        <tr>\n",
       "            <td>4239</td>\n",
       "            <td>AYYRRVKRLYSNWRKGE</td>\n",
       "            <td>17</td>\n",
       "            <td>[1, 4, 5, 6, 8, 9, 15, 16]</td>\n",
       "        </tr>\n",
       "        <tr>\n",
       "            <td>4246</td>\n",
       "            <td>CSRAGGNCCKKCTLTHD</td>\n",
       "            <td>17</td>\n",
       "            <td>[1, 2, 3, 4, 8, 9, 11, 14]</td>\n",
       "        </tr>\n",
       "        <tr>\n",
       "            <td>4272</td>\n",
       "            <td>NLSKLKSLLTQLRAE</td>\n",
       "            <td>15</td>\n",
       "            <td>[]</td>\n",
       "        </tr>\n",
       "        <tr>\n",
       "            <td>4276</td>\n",
       "            <td>SPSSIALFYKACLCSVDPVAM[15.9949]MKQTVIND</td>\n",
       "            <td>29</td>\n",
       "            <td>[1, 2, 5, 8, 10, 11, 14, 20, 21, 23, 25, 28]</td>\n",
       "        </tr>\n",
       "        <tr>\n",
       "            <td>4281</td>\n",
       "            <td>TAAAATTAAAASSSAASPHYQE</td>\n",
       "            <td>22</td>\n",
       "            <td>[1, 5, 8, 9, 10, 11, 12, 13, 15, 17, 18, 19, 21]</td>\n",
       "        </tr>\n",
       "        <tr>\n",
       "            <td>4285</td>\n",
       "            <td>ISRAFSSPPKGQMGSCRVGKRIME</td>\n",
       "            <td>24</td>\n",
       "            <td>[21]</td>\n",
       "        </tr>\n",
       "        <tr>\n",
       "            <td>4289</td>\n",
       "            <td>VINYLGNKACE</td>\n",
       "            <td>11</td>\n",
       "            <td>[2, 8, 9, 10]</td>\n",
       "        </tr>\n",
       "        <tr>\n",
       "            <td>4292</td>\n",
       "            <td>SFSSKSLALQAE</td>\n",
       "            <td>12</td>\n",
       "            <td>[1, 2, 7, 8, 9, 10, 11]</td>\n",
       "        </tr>\n",
       "        <tr>\n",
       "            <td>4297</td>\n",
       "            <td>ACKGM[15.9949]KCVNHYGGYLCLPKTAQIIVNNE</td>\n",
       "            <td>28</td>\n",
       "            <td>[1, 5, 8, 18, 25]</td>\n",
       "        </tr>\n",
       "        <tr>\n",
       "            <td>4298</td>\n",
       "            <td>RLSAAPVKGQTGPE</td>\n",
       "            <td>14</td>\n",
       "            <td>[2, 5, 8, 9, 11, 12, 13]</td>\n",
       "        </tr>\n",
       "        <tr>\n",
       "            <td>4299</td>\n",
       "            <td>IADPIVLALGASRD</td>\n",
       "            <td>14</td>\n",
       "            <td>[1, 2, 3, 7, 10, 11, 12, 13]</td>\n",
       "        </tr>\n",
       "        <tr>\n",
       "            <td>4305</td>\n",
       "            <td>TSVPIISTSGNAGMTGVVSPTVTGASGM[15.9949]AGTTGGVD</td>\n",
       "            <td>36</td>\n",
       "            <td>[4, 5, 24, 30, 35]</td>\n",
       "        </tr>\n",
       "    </tbody>\n",
       "</table>"
      ],
      "text/plain": [
       "+-------------+--------------------------------------------------------------+-----------------+------------------------------------------------------------------------------------------------------------------------------------------------------------------------------------------+\n",
       "| Scan Number |                           Sequence                           | Sequence Length |                                                                                Missing Fragment Locations                                                                                |\n",
       "+-------------+--------------------------------------------------------------+-----------------+------------------------------------------------------------------------------------------------------------------------------------------------------------------------------------------+\n",
       "|     1707    |                 ASPDPMLEPM[15.9949]SWRGNIHE                  |        18       |                                                                                   [1, 2, 4, 7, 10, 12]                                                                                   |\n",
       "|     2140    |                    IFKNGSKRMIATVPLRHSIRD                     |        21       |                                                                                           [13]                                                                                           |\n",
       "|     2534    |              RQVPLASPSSM[15.9949]SAALRGISCYLKE               |        24       |                                                                       [1, 4, 5, 6, 8, 10, 13, 14, 16, 21, 22, 23]                                                                        |\n",
       "|     3032    |                     FLCQASVGKSPGNNAADPFE                     |        20       |                                                                [1, 2, 4, 5, 6, 7, 9, 11, 12, 13, 14, 15, 16, 17, 18, 19]                                                                 |\n",
       "|     3148    |               KAQAIIATMGGTTLMASAHSWAKSSSFSCPE                |        31       |                                                    [1, 2, 3, 4, 6, 8, 9, 11, 13, 15, 18, 19, 20, 21, 22, 23, 24, 26, 27, 28, 29, 30]                                                     |\n",
       "|     3582    |                 KSSM[15.9949]KRKLPFTISPSRNE                  |        18       |                                                                              [3, 4, 6, 10, 11, 13, 14, 16]                                                                               |\n",
       "|     3716    |           AVCGAGPPSGLLPLPGPDPGPRGSQGSPTPTRAPASGPE            |        39       |                                                            [1, 2, 3, 5, 6, 8, 9, 12, 14, 15, 18, 24, 26, 28, 32, 34, 36, 38]                                                             |\n",
       "|     4026    |                     SRPTPMGPPPTSHFHVLAD                      |        19       |                                                                                [1, 2, 9, 13, 15, 17, 18]                                                                                 |\n",
       "|     4027    |                      SIYVIRGTLFSVAVSFTD                      |        18       |                                                                           [1, 4, 5, 8, 9, 12, 14, 15, 16, 17]                                                                            |\n",
       "|     4056    |          GRGPPGNPPRRM[15.9949]GRINHLRGPSPPPMAGGUGR           |        32       |                                                                          [1, 3, 10, 11, 15, 17, 23, 25, 29, 30]                                                                          |\n",
       "|     4057    |                    MASCAEPSEPSAPLPAGVPPLE                    |        22       |                                                                              [4, 5, 7, 10, 14, 15, 16, 20]                                                                               |\n",
       "|     4067    |                MCHTSHSSGCPMACPGSPCCVPSTCYPPE                 |        29       |                                           [1, 2, 3, 4, 5, 6, 7, 8, 9, 10, 12, 13, 14, 15, 16, 17, 18, 19, 20, 21, 22, 23, 24, 25, 26, 27, 28]                                            |\n",
       "|     4068    |                    KLM[15.9949]QLNLCSNRLE                    |        13       |                                                                                          [2, 6]                                                                                          |\n",
       "|     4080    |          SVPPISQLPCTALSPVAQTHGSM[15.9949]LSPGAQPHD           |        32       |                                                      [2, 4, 5, 6, 7, 8, 11, 13, 14, 15, 18, 19, 20, 21, 23, 24, 25, 27, 28, 30, 31]                                                      |\n",
       "|     4111    |                     RFNHFSLTLNTNHGHILVD                      |        19       |                                                                                      [1, 2, 16, 17]                                                                                      |\n",
       "|     4130    |                     VVSVRNYGAAFHLPTSQRGE                     |        20       |                                                                                [2, 3, 10, 14, 15, 18, 19]                                                                                |\n",
       "|     4140    |                  SKVALSTCNGLHGM[15.9949]FE                   |        16       |                                                                                    [1, 4, 10, 12, 13]                                                                                    |\n",
       "|     4149    |                      RRYCNSHLQVLGFIPKKE                      |        18       |                                                                                        [1, 2, 7]                                                                                         |\n",
       "|     4150    |                      KPATDPVLQVVYKSQGKE                      |        18       |                                                                                    [3, 5, 7, 12, 15]                                                                                     |\n",
       "|     4171    |           MPRAQPSSASYQPVPADPFAIVSRAQQM[15.9949]VE            |        30       |                                                                                 [12, 13, 20, 21, 25, 29]                                                                                 |\n",
       "|     4176    |                     SFWSCNVTFNISSKSILVD                      |        19       |                                                                               [1, 4, 5, 6, 11, 16, 17, 18]                                                                               |\n",
       "|     4195    |                        IQSYSSLTAAPFE                         |        13       |                                                                                     [2, 3, 4, 8, 12]                                                                                     |\n",
       "|     4209    | GQAAARGAGPRLLLLLLLPLPLPLPLLQLVGRRPGAAGRSGSAWRRAQLGM[15.9949] |        51       | [1, 2, 3, 4, 5, 6, 7, 9, 10, 11, 12, 13, 14, 15, 16, 17, 18, 19, 20, 21, 22, 23, 24, 25, 26, 27, 28, 29, 30, 31, 33, 34, 35, 36, 37, 38, 39, 40, 41, 42, 43, 44, 45, 46, 47, 48, 49, 50] |\n",
       "|     4214    |                       HAVVVGVYRPPPKVKN                       |        16       |                                                                                         [12, 15]                                                                                         |\n",
       "|     4231    |                     WGTRAKLHTVAICFQRGSE                      |        19       |                                                                                  [1, 4, 8, 11, 13, 17]                                                                                   |\n",
       "|     4239    |                      AYYRRVKRLYSNWRKGE                       |        17       |                                                                                [1, 4, 5, 6, 8, 9, 15, 16]                                                                                |\n",
       "|     4246    |                      CSRAGGNCCKKCTLTHD                       |        17       |                                                                                [1, 2, 3, 4, 8, 9, 11, 14]                                                                                |\n",
       "|     4272    |                       NLSKLKSLLTQLRAE                        |        15       |                                                                                            []                                                                                            |\n",
       "|     4276    |            SPSSIALFYKACLCSVDPVAM[15.9949]MKQTVIND            |        29       |                                                                       [1, 2, 5, 8, 10, 11, 14, 20, 21, 23, 25, 28]                                                                       |\n",
       "|     4281    |                    TAAAATTAAAASSSAASPHYQE                    |        22       |                                                                     [1, 5, 8, 9, 10, 11, 12, 13, 15, 17, 18, 19, 21]                                                                     |\n",
       "|     4285    |                   ISRAFSSPPKGQMGSCRVGKRIME                   |        24       |                                                                                           [21]                                                                                           |\n",
       "|     4289    |                         VINYLGNKACE                          |        11       |                                                                                      [2, 8, 9, 10]                                                                                       |\n",
       "|     4292    |                         SFSSKSLALQAE                         |        12       |                                                                                 [1, 2, 7, 8, 9, 10, 11]                                                                                  |\n",
       "|     4297    |            ACKGM[15.9949]KCVNHYGGYLCLPKTAQIIVNNE             |        28       |                                                                                    [1, 5, 8, 18, 25]                                                                                     |\n",
       "|     4298    |                        RLSAAPVKGQTGPE                        |        14       |                                                                                 [2, 5, 8, 9, 11, 12, 13]                                                                                 |\n",
       "|     4299    |                        IADPIVLALGASRD                        |        14       |                                                                               [1, 2, 3, 7, 10, 11, 12, 13]                                                                               |\n",
       "|     4305    |        TSVPIISTSGNAGMTGVVSPTVTGASGM[15.9949]AGTTGGVD         |        36       |                                                                                    [4, 5, 24, 30, 35]                                                                                    |\n",
       "+-------------+--------------------------------------------------------------+-----------------+------------------------------------------------------------------------------------------------------------------------------------------------------------------------------------------+"
      ]
     },
     "execution_count": 13,
     "metadata": {},
     "output_type": "execute_result"
    }
   ],
   "source": [
    "myTable[:37]\n"
   ]
  },
  {
   "cell_type": "code",
   "execution_count": null,
   "id": "f6a54bcb",
   "metadata": {},
   "outputs": [],
   "source": []
  },
  {
   "cell_type": "code",
   "execution_count": null,
   "id": "181196e3",
   "metadata": {},
   "outputs": [],
   "source": []
  },
  {
   "cell_type": "code",
   "execution_count": null,
   "id": "8dba5eb9",
   "metadata": {},
   "outputs": [],
   "source": []
  },
  {
   "cell_type": "code",
   "execution_count": null,
   "id": "362f8707",
   "metadata": {},
   "outputs": [],
   "source": []
  },
  {
   "cell_type": "code",
   "execution_count": null,
   "id": "812685bc",
   "metadata": {},
   "outputs": [],
   "source": []
  },
  {
   "cell_type": "code",
   "execution_count": null,
   "id": "823816cf",
   "metadata": {},
   "outputs": [],
   "source": []
  },
  {
   "cell_type": "code",
   "execution_count": null,
   "id": "a96a26cd",
   "metadata": {},
   "outputs": [],
   "source": []
  },
  {
   "cell_type": "code",
   "execution_count": null,
   "id": "52d93582",
   "metadata": {},
   "outputs": [],
   "source": []
  },
  {
   "cell_type": "code",
   "execution_count": null,
   "id": "59ba72f8",
   "metadata": {},
   "outputs": [],
   "source": []
  },
  {
   "cell_type": "code",
   "execution_count": null,
   "id": "add5ad53",
   "metadata": {},
   "outputs": [],
   "source": []
  },
  {
   "cell_type": "code",
   "execution_count": null,
   "id": "456db3e0",
   "metadata": {},
   "outputs": [],
   "source": []
  },
  {
   "cell_type": "code",
   "execution_count": null,
   "id": "bd5f5eee",
   "metadata": {},
   "outputs": [],
   "source": []
  },
  {
   "cell_type": "code",
   "execution_count": null,
   "id": "94f4f0d3",
   "metadata": {},
   "outputs": [],
   "source": []
  },
  {
   "cell_type": "code",
   "execution_count": 147,
   "id": "7ce9ad4d",
   "metadata": {},
   "outputs": [],
   "source": [
    "# the following code is checking for how many fragments are missing from just ONE peptide sequence "
   ]
  },
  {
   "cell_type": "code",
   "execution_count": 146,
   "id": "5cc25df6",
   "metadata": {},
   "outputs": [
    {
     "data": {
      "text/plain": [
       "'E.RQVPLASPSSM[15.9949]SAALRGISCYLKE.L'"
      ]
     },
     "execution_count": 146,
     "metadata": {},
     "output_type": "execute_result"
    }
   ],
   "source": [
    "scan2PeptideCharge_modified[2534][0] "
   ]
  },
  {
   "cell_type": "code",
   "execution_count": 148,
   "id": "2d1f0b99",
   "metadata": {},
   "outputs": [],
   "source": [
    "sequence = scan2PeptideCharge_modified[2534][0]    \n",
    "trimmed_sequence = sequence[2:-2] # remove first two and last two characters       "
   ]
  },
  {
   "cell_type": "code",
   "execution_count": 149,
   "id": "66c1a705",
   "metadata": {},
   "outputs": [
    {
     "data": {
      "text/plain": [
       "'RQVPLASPSSM[15.9949]SAALRGISCYLKE'"
      ]
     },
     "execution_count": 149,
     "metadata": {},
     "output_type": "execute_result"
    }
   ],
   "source": [
    "trimmed_sequence"
   ]
  },
  {
   "cell_type": "code",
   "execution_count": 150,
   "id": "2059e23a",
   "metadata": {},
   "outputs": [],
   "source": [
    "peptide_object = AASequence.fromString(trimmed_sequence)"
   ]
  },
  {
   "cell_type": "code",
   "execution_count": 151,
   "id": "0eda013a",
   "metadata": {},
   "outputs": [
    {
     "data": {
      "text/plain": [
       "24"
      ]
     },
     "execution_count": 151,
     "metadata": {},
     "output_type": "execute_result"
    }
   ],
   "source": [
    "peptide_object.size()"
   ]
  },
  {
   "cell_type": "code",
   "execution_count": 152,
   "id": "ac866814",
   "metadata": {},
   "outputs": [
    {
     "name": "stdout",
     "output_type": "stream",
     "text": [
      "4\n"
     ]
    }
   ],
   "source": [
    "charge = scan2PeptideCharge_modified[2534][1]\n",
    "print(charge)"
   ]
  },
  {
   "cell_type": "code",
   "execution_count": 155,
   "id": "e32cbd9d",
   "metadata": {},
   "outputs": [],
   "source": [
    "ind_b = []\n",
    "ind_y = []\n",
    "for i in range(1, (peptide_object.size())): # start at index of 1, end at peptide length - 1\n",
    "    y_ion = peptide_object.getSuffix(i)\n",
    "    b_ion = peptide_object.getPrefix(i)\n",
    "   \n",
    "    for x in range(1, charge):\n",
    "        mz_b = b_ion.getMonoWeight(Residue.ResidueType.BIon, x) / x\n",
    "        ind_b.append(spectrum_list[2].findNearest(mz_b, 0.4))\n",
    "        \n",
    "        mz_y = y_ion.getMonoWeight(Residue.ResidueType.YIon, x) / x\n",
    "        ind_y.append(spectrum_list[2].findNearest(mz_y, 0.4))\n",
    "        \n",
    "ind_y.reverse() # reverse list "
   ]
  },
  {
   "cell_type": "code",
   "execution_count": 157,
   "id": "284d28d9",
   "metadata": {},
   "outputs": [
    {
     "name": "stdout",
     "output_type": "stream",
     "text": [
      "All elements have a value of -1...we cannot uncover this fragment\n",
      "At least one ion (b or y) has at least one charge state that was found in the MS2\n",
      "At least one ion (b or y) has at least one charge state that was found in the MS2\n",
      "All elements have a value of -1...we cannot uncover this fragment\n",
      "All elements have a value of -1...we cannot uncover this fragment\n",
      "All elements have a value of -1...we cannot uncover this fragment\n",
      "At least one ion (b or y) has at least one charge state that was found in the MS2\n",
      "All elements have a value of -1...we cannot uncover this fragment\n",
      "At least one ion (b or y) has at least one charge state that was found in the MS2\n",
      "All elements have a value of -1...we cannot uncover this fragment\n",
      "At least one ion (b or y) has at least one charge state that was found in the MS2\n",
      "At least one ion (b or y) has at least one charge state that was found in the MS2\n",
      "All elements have a value of -1...we cannot uncover this fragment\n",
      "All elements have a value of -1...we cannot uncover this fragment\n",
      "At least one ion (b or y) has at least one charge state that was found in the MS2\n",
      "All elements have a value of -1...we cannot uncover this fragment\n",
      "At least one ion (b or y) has at least one charge state that was found in the MS2\n",
      "At least one ion (b or y) has at least one charge state that was found in the MS2\n",
      "At least one ion (b or y) has at least one charge state that was found in the MS2\n",
      "At least one ion (b or y) has at least one charge state that was found in the MS2\n",
      "All elements have a value of -1...we cannot uncover this fragment\n",
      "All elements have a value of -1...we cannot uncover this fragment\n",
      "All elements have a value of -1...we cannot uncover this fragment\n"
     ]
    }
   ],
   "source": [
    "# skim list for each corresponding y and b fragments based on charge states \n",
    "def skimList(fragment_index, charge):\n",
    "    check_b = ind_b[fragment_index:fragment_index+charge-1]\n",
    "    check_y = ind_y[fragment_index:fragment_index+charge-1]\n",
    "    return check_b, check_y\n",
    "\n",
    "btest2 = []\n",
    "ytest2 = []\n",
    "# checking if every associated y and b ion has a -1 value (was not found in the spectrum)\n",
    "for x in range(0, len(ind_y), charge-1): # check after every two mz (two possible charge states), so index as such: 0,2,4,6,etc\n",
    "    check_b, check_y = skimList(x, charge)\n",
    "    \n",
    "    btest2.append(check_b)\n",
    "    ytest2.append(check_y)\n",
    "    \n",
    "    if all(item == -1 for item in check_b) and all(item == -1 for item in check_y):\n",
    "        print('All elements have a value of -1...we cannot uncover this fragment')\n",
    "    else:\n",
    "        print('At least one ion (b or y) has at least one charge state that was found in the MS2')"
   ]
  },
  {
   "cell_type": "code",
   "execution_count": 143,
   "id": "dbee3084",
   "metadata": {},
   "outputs": [
    {
     "data": {
      "text/plain": [
       "[[2, -1, -1, -1],\n",
       " [49, -1, -1, -1],\n",
       " [-1, 26, 9, -1],\n",
       " [-1, 44, -1, -1],\n",
       " [-1, 55, 24, -1],\n",
       " [193, 66, -1, -1],\n",
       " [-1, -1, -1, 25],\n",
       " [-1, -1, -1, -1],\n",
       " [-1, -1, -1, -1],\n",
       " [-1, -1, 97, -1],\n",
       " [-1, -1, 111, -1],\n",
       " [-1, 201, 138, -1],\n",
       " [-1, -1, -1, -1],\n",
       " [-1, -1, -1, 92],\n",
       " [-1, 233, -1, 110],\n",
       " [-1, -1, -1, 141],\n",
       " [-1, -1, 194, 153],\n",
       " [-1, 256, -1, -1],\n",
       " [-1, -1, -1, 169],\n",
       " [-1, -1, 222, 181]]"
      ]
     },
     "execution_count": 143,
     "metadata": {},
     "output_type": "execute_result"
    }
   ],
   "source": [
    "btest2"
   ]
  },
  {
   "cell_type": "code",
   "execution_count": 144,
   "id": "115da60d",
   "metadata": {},
   "outputs": [
    {
     "data": {
      "text/plain": [
       "[[-1, -1, -1, -1],\n",
       " [-1, -1, -1, -1],\n",
       " [-1, -1, -1, -1],\n",
       " [-1, -1, -1, -1],\n",
       " [148, -1, -1, -1],\n",
       " [-1, 186, -1, -1],\n",
       " [112, -1, 235, -1],\n",
       " [-1, -1, 218, -1],\n",
       " [-1, 142, -1, -1],\n",
       " [-1, 117, 191, -1],\n",
       " [61, 102, -1, -1],\n",
       " [52, 82, 175, -1],\n",
       " [-1, -1, -1, -1],\n",
       " [-1, -1, -1, -1],\n",
       " [-1, 50, 96, -1],\n",
       " [-1, -1, -1, -1],\n",
       " [-1, -1, 42, 155],\n",
       " [-1, -1, 30, 105],\n",
       " [-1, -1, -1, -1],\n",
       " [-1, -1, -1, -1]]"
      ]
     },
     "execution_count": 144,
     "metadata": {},
     "output_type": "execute_result"
    }
   ],
   "source": [
    "ytest2"
   ]
  },
  {
   "cell_type": "code",
   "execution_count": null,
   "id": "90398d68",
   "metadata": {},
   "outputs": [],
   "source": []
  },
  {
   "cell_type": "code",
   "execution_count": null,
   "id": "ee0573d9",
   "metadata": {},
   "outputs": [],
   "source": []
  },
  {
   "cell_type": "code",
   "execution_count": null,
   "id": "451022cc",
   "metadata": {},
   "outputs": [],
   "source": []
  },
  {
   "cell_type": "code",
   "execution_count": null,
   "id": "bfcd6d62",
   "metadata": {},
   "outputs": [],
   "source": []
  },
  {
   "cell_type": "code",
   "execution_count": null,
   "id": "0030441c",
   "metadata": {},
   "outputs": [],
   "source": []
  },
  {
   "cell_type": "code",
   "execution_count": null,
   "id": "5b1c107b",
   "metadata": {},
   "outputs": [],
   "source": []
  },
  {
   "cell_type": "code",
   "execution_count": null,
   "id": "2b4d00df",
   "metadata": {},
   "outputs": [],
   "source": []
  }
 ],
 "metadata": {
  "kernelspec": {
   "display_name": "Python 3 (ipykernel)",
   "language": "python",
   "name": "python3"
  },
  "language_info": {
   "codemirror_mode": {
    "name": "ipython",
    "version": 3
   },
   "file_extension": ".py",
   "mimetype": "text/x-python",
   "name": "python",
   "nbconvert_exporter": "python",
   "pygments_lexer": "ipython3",
   "version": "3.9.12"
  }
 },
 "nbformat": 4,
 "nbformat_minor": 5
}
