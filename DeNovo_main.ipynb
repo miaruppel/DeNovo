{
 "cells": [
  {
   "cell_type": "code",
   "execution_count": 1,
   "id": "9624bf9a",
   "metadata": {},
   "outputs": [],
   "source": [
    "# import libraries\n",
    "from pyopenms import *\n",
    "import os"
   ]
  },
  {
   "cell_type": "code",
   "execution_count": 2,
   "id": "2e379623",
   "metadata": {},
   "outputs": [],
   "source": [
    "# change directory to find file of interest\n",
    "os.chdir(r'C:\\Users\\miar\\Desktop\\data')"
   ]
  },
  {
   "cell_type": "code",
   "execution_count": 3,
   "id": "e62a98b7",
   "metadata": {},
   "outputs": [],
   "source": [
    "#------------------------------------------------------------------------------------------------------------------------------\n",
    "\n",
    "# ONLY NEED TO RUN THE NEXT TWO BLOCKS ONCE\n",
    "\n",
    "#-------------------------------------------------------------------------------------------------------------------------------"
   ]
  },
  {
   "cell_type": "code",
   "execution_count": 4,
   "id": "37311037",
   "metadata": {},
   "outputs": [],
   "source": [
    "# load the content of the mzML file into the exp variable of type MSExperiment\n",
    "#exp = MSExperiment()\n",
    "#MzMLFile().load(\"HEK293T_De_Novo_053122_Glu-C_B_correctRTSenzyme_BP.mzML\", exp)\n",
    "\n",
    "# access the raw data and spectra\n",
    "#spectrum_data = exp.getSpectrum(0).get_peaks()\n",
    "#spectrum_data"
   ]
  },
  {
   "cell_type": "code",
   "execution_count": 5,
   "id": "422c46f3",
   "metadata": {},
   "outputs": [],
   "source": [
    "# loop through the spectra to gather MS2 scans\n",
    "#specM2 = []\n",
    "#for s in exp.getSpectra():\n",
    "#    if s.getMSLevel() == 2:\n",
    "#        specM2.append(s)\n",
    "        \n",
    "#print(\"Number of MS2 scans: \" + str(len(specM2)))\n",
    "\n",
    "#exp.setSpectra(specM2) # keep only MS2\n",
    "\n",
    "# store the modified data structure on disk\n",
    "#MzMLFile().store(\"filtered_MS2.mzML\", exp)"
   ]
  },
  {
   "cell_type": "code",
   "execution_count": 6,
   "id": "fdc7c162",
   "metadata": {},
   "outputs": [],
   "source": [
    "# parse function\n",
    "def parseScanLine(input):\n",
    "    x = input.split(\" For: \")\n",
    "    [scan_number, mzs] = x[1].split(\", \")\n",
    "    [precursor_mz, fragment_mz] = mzs.split(\";\")\n",
    "    trimmed_fragment_mz = fragment_mz.strip() # trim fragment strings to remove \\n\n",
    "    return [scan_number, precursor_mz, trimmed_fragment_mz]"
   ]
  },
  {
   "cell_type": "code",
   "execution_count": 7,
   "id": "cd13a154",
   "metadata": {},
   "outputs": [],
   "source": [
    "# checking lines of log file and creating dictionary of scan numbers and fragment mzs\n",
    "try:\n",
    "  \n",
    "    # words to search for\n",
    "    search = ' Submitted Custom Scan For:'\n",
    "  \n",
    "    # reading file content line by line\n",
    "    search = ' Submitted Custom Scan For:'   # words to search for\n",
    "    \n",
    "    # dict for scan numbers and corresponding fragments \n",
    "    scan2frag = dict()\n",
    "    with open('App-2022-05-31_20-49-35.log') as f:\n",
    "        for line in f:\n",
    "            if search in line:\n",
    "                scan_number, precursor_mz, trimmed_fragment_mz = parseScanLine(line)\n",
    "                scan2frag[scan_number] = trimmed_fragment_mz\n",
    "            \n",
    "    # if the input string doesn't exist in the text file\n",
    "    if len(scan2frag)==0:\n",
    "        print(\"\\n\\\"\" +search+ \"\\\" is not found in \\\"\" +'App-2022-05-31_20-49-35.log'+ \"\\\"!\")\n",
    "\n",
    "except FileNotFoundError:\n",
    "    print(\"The file does not exist!\")"
   ]
  },
  {
   "cell_type": "code",
   "execution_count": 8,
   "id": "7f8dd029",
   "metadata": {},
   "outputs": [],
   "source": [
    "# load in MS2 scans\n",
    "exp1 = MSExperiment()\n",
    "MzMLFile().load(\"filtered_MS2.mzML\", exp1)"
   ]
  },
  {
   "cell_type": "code",
   "execution_count": 9,
   "id": "b73095ac",
   "metadata": {},
   "outputs": [],
   "source": [
    "# read in peptide sequence from tsv\n",
    "import pandas as pd\n",
    "tsv = pd.read_csv('HEK293T_De_Novo_053122_Glu-C_B_correctRTSenzyme_BP_realtimesearch1.tsv', sep='\\t')\n",
    "\n",
    "# create dictionary with scan # as key and sequence/charge as values\n",
    "scan2PeptideCharge = dict([(i, [x,y]) for i, x,y, in zip(tsv['Scan Number'], tsv['Peptide'], tsv['Charge State'])])\n",
    "\n",
    "# removing all NaN sequences (not useful)\n",
    "scan2PeptideCharge_modified = {k:v for k,v in scan2PeptideCharge.items() if str(v[0]) != 'nan'}"
   ]
  },
  {
   "cell_type": "code",
   "execution_count": 10,
   "id": "2680351a",
   "metadata": {},
   "outputs": [],
   "source": [
    "def findFragments(peptide_object, charge):\n",
    "    # loop through each prefix and suffix (b and y ions, respectively)\n",
    "    # y and b ions\n",
    "\n",
    "    b_index = []\n",
    "    y_index = []\n",
    "    for ion in range(1, (peptide_object.size())): # start at index of 1, end at peptide length - 1\n",
    "        y_ion = peptide_object.getSuffix(ion)\n",
    "        b_ion = peptide_object.getPrefix(ion)\n",
    "\n",
    "        for z in range(1, charge):\n",
    "            mz_b = b_ion.getMonoWeight(Residue.ResidueType.BIon, z) / z\n",
    "            b_index.append(s.findNearest(mz_b, 0.4))\n",
    "\n",
    "            mz_y = y_ion.getMonoWeight(Residue.ResidueType.YIon, z) / z\n",
    "            y_index.append(s.findNearest(mz_y, 0.4))\n",
    "\n",
    "    y_index.reverse() # reverse list (the first b ion corresponds with the last y ion)\n",
    "    \n",
    "    # skim list for each corresponding y and b fragments based on charge states\n",
    "    count = 0\n",
    "    missing_list = []\n",
    "    for fragment_index in range(0, len(y_index), charge-1): # check after 'x' mzs (possible charge states)\n",
    "        \n",
    "        count = count + 1\n",
    "        \n",
    "        check_b = b_index[fragment_index : fragment_index+charge-1]\n",
    "        check_y = y_index[fragment_index : fragment_index+charge-1]\n",
    "\n",
    "        if all(item == -1 for item in check_b) and all(item == -1 for item in check_y):\n",
    "            missing_list.append(count)\n",
    "\n",
    "    return missing_list"
   ]
  },
  {
   "cell_type": "code",
   "execution_count": 11,
   "id": "9994a766",
   "metadata": {},
   "outputs": [],
   "source": [
    "from prettytable import PrettyTable \n",
    "\n",
    "myTable = PrettyTable([\"Scan Number\", \"Sequence\", \"Sequence Length\", \"Missing Fragment Locations\"])\n",
    "\n",
    "for s in exp1:\n",
    "    s_number = s.getNativeID().split(' ')[-1]\n",
    "    _, scan_number = s_number.split('=')\n",
    "    \n",
    "    if scan_number in scan2frag and int(scan_number) in scan2PeptideCharge_modified:\n",
    "        # isolate peptide sequence from dict\n",
    "        sequence = scan2PeptideCharge_modified[int(scan_number)][0]     \n",
    "        trimmed_sequence = sequence[2:-2] # remove first two and last two characters \n",
    "        \n",
    "        # isolate charge from dict\n",
    "        charge = scan2PeptideCharge_modified[int(scan_number)][1]\n",
    " \n",
    "        # create peptide object \n",
    "        peptide_object = AASequence.fromString(trimmed_sequence)\n",
    "        \n",
    "        # call findFragments function\n",
    "        missing_list = findFragments(peptide_object, charge)\n",
    "        \n",
    "        # creating table\n",
    "        myTable.add_row([scan_number, trimmed_sequence, peptide_object.size(), missing_list])"
   ]
  },
  {
   "cell_type": "code",
   "execution_count": 12,
   "id": "c864443b",
   "metadata": {},
   "outputs": [
    {
     "data": {
      "text/html": [
       "<table>\n",
       "    <thead>\n",
       "        <tr>\n",
       "            <th>Scan Number</th>\n",
       "            <th>Sequence</th>\n",
       "            <th>Sequence Length</th>\n",
       "            <th>Missing Fragment Locations</th>\n",
       "        </tr>\n",
       "    </thead>\n",
       "    <tbody>\n",
       "        <tr>\n",
       "            <td>1707</td>\n",
       "            <td>ASPDPMLEPM[15.9949]SWRGNIHE</td>\n",
       "            <td>18</td>\n",
       "            <td>[1, 2, 4, 7, 10, 12]</td>\n",
       "        </tr>\n",
       "        <tr>\n",
       "            <td>2140</td>\n",
       "            <td>IFKNGSKRMIATVPLRHSIRD</td>\n",
       "            <td>21</td>\n",
       "            <td>[13]</td>\n",
       "        </tr>\n",
       "        <tr>\n",
       "            <td>2534</td>\n",
       "            <td>RQVPLASPSSM[15.9949]SAALRGISCYLKE</td>\n",
       "            <td>24</td>\n",
       "            <td>[1, 4, 5, 6, 8, 10, 13, 14, 16, 21, 22, 23]</td>\n",
       "        </tr>\n",
       "        <tr>\n",
       "            <td>3032</td>\n",
       "            <td>FLCQASVGKSPGNNAADPFE</td>\n",
       "            <td>20</td>\n",
       "            <td>[1, 2, 4, 5, 6, 7, 9, 11, 12, 13, 14, 15, 16, 17, 18, 19]</td>\n",
       "        </tr>\n",
       "        <tr>\n",
       "            <td>3148</td>\n",
       "            <td>KAQAIIATMGGTTLMASAHSWAKSSSFSCPE</td>\n",
       "            <td>31</td>\n",
       "            <td>[1, 2, 3, 4, 6, 8, 9, 11, 13, 15, 18, 19, 20, 21, 22, 23, 24, 26, 27, 28, 29, 30]</td>\n",
       "        </tr>\n",
       "        <tr>\n",
       "            <td>3582</td>\n",
       "            <td>KSSM[15.9949]KRKLPFTISPSRNE</td>\n",
       "            <td>18</td>\n",
       "            <td>[3, 4, 6, 10, 11, 13, 14, 16]</td>\n",
       "        </tr>\n",
       "        <tr>\n",
       "            <td>3716</td>\n",
       "            <td>AVCGAGPPSGLLPLPGPDPGPRGSQGSPTPTRAPASGPE</td>\n",
       "            <td>39</td>\n",
       "            <td>[1, 2, 3, 5, 6, 8, 9, 12, 14, 15, 18, 24, 26, 28, 32, 34, 36, 38]</td>\n",
       "        </tr>\n",
       "        <tr>\n",
       "            <td>4026</td>\n",
       "            <td>SRPTPMGPPPTSHFHVLAD</td>\n",
       "            <td>19</td>\n",
       "            <td>[1, 2, 9, 13, 15, 17, 18]</td>\n",
       "        </tr>\n",
       "        <tr>\n",
       "            <td>4027</td>\n",
       "            <td>SIYVIRGTLFSVAVSFTD</td>\n",
       "            <td>18</td>\n",
       "            <td>[1, 4, 5, 8, 9, 12, 14, 15, 16, 17]</td>\n",
       "        </tr>\n",
       "        <tr>\n",
       "            <td>4056</td>\n",
       "            <td>GRGPPGNPPRRM[15.9949]GRINHLRGPSPPPMAGGUGR</td>\n",
       "            <td>32</td>\n",
       "            <td>[1, 3, 10, 11, 15, 17, 23, 25, 29, 30]</td>\n",
       "        </tr>\n",
       "    </tbody>\n",
       "</table>"
      ],
      "text/plain": [
       "+-------------+-------------------------------------------+-----------------+-----------------------------------------------------------------------------------+\n",
       "| Scan Number |                  Sequence                 | Sequence Length |                             Missing Fragment Locations                            |\n",
       "+-------------+-------------------------------------------+-----------------+-----------------------------------------------------------------------------------+\n",
       "|     1707    |        ASPDPMLEPM[15.9949]SWRGNIHE        |        18       |                                [1, 2, 4, 7, 10, 12]                               |\n",
       "|     2140    |           IFKNGSKRMIATVPLRHSIRD           |        21       |                                        [13]                                       |\n",
       "|     2534    |     RQVPLASPSSM[15.9949]SAALRGISCYLKE     |        24       |                    [1, 4, 5, 6, 8, 10, 13, 14, 16, 21, 22, 23]                    |\n",
       "|     3032    |            FLCQASVGKSPGNNAADPFE           |        20       |             [1, 2, 4, 5, 6, 7, 9, 11, 12, 13, 14, 15, 16, 17, 18, 19]             |\n",
       "|     3148    |      KAQAIIATMGGTTLMASAHSWAKSSSFSCPE      |        31       | [1, 2, 3, 4, 6, 8, 9, 11, 13, 15, 18, 19, 20, 21, 22, 23, 24, 26, 27, 28, 29, 30] |\n",
       "|     3582    |        KSSM[15.9949]KRKLPFTISPSRNE        |        18       |                           [3, 4, 6, 10, 11, 13, 14, 16]                           |\n",
       "|     3716    |  AVCGAGPPSGLLPLPGPDPGPRGSQGSPTPTRAPASGPE  |        39       |         [1, 2, 3, 5, 6, 8, 9, 12, 14, 15, 18, 24, 26, 28, 32, 34, 36, 38]         |\n",
       "|     4026    |            SRPTPMGPPPTSHFHVLAD            |        19       |                             [1, 2, 9, 13, 15, 17, 18]                             |\n",
       "|     4027    |             SIYVIRGTLFSVAVSFTD            |        18       |                        [1, 4, 5, 8, 9, 12, 14, 15, 16, 17]                        |\n",
       "|     4056    | GRGPPGNPPRRM[15.9949]GRINHLRGPSPPPMAGGUGR |        32       |                       [1, 3, 10, 11, 15, 17, 23, 25, 29, 30]                      |\n",
       "+-------------+-------------------------------------------+-----------------+-----------------------------------------------------------------------------------+"
      ]
     },
     "execution_count": 12,
     "metadata": {},
     "output_type": "execute_result"
    }
   ],
   "source": [
    "# peek at table \n",
    "myTable[:10]"
   ]
  },
  {
   "cell_type": "code",
   "execution_count": 17,
   "id": "7d84b7ae",
   "metadata": {},
   "outputs": [],
   "source": [
    "# exporting table to tsv\n",
    "data = myTable.get_string()\n",
    "\n",
    "with open('fragmentsInfoTable.csv', 'w', encoding='utf-8') as f:\n",
    "    f.write(data)"
   ]
  },
  {
   "cell_type": "code",
   "execution_count": 18,
   "id": "8dba5eb9",
   "metadata": {},
   "outputs": [
    {
     "ename": "ParserError",
     "evalue": "Error tokenizing data. C error: Expected 1 fields in line 4, saw 6\n",
     "output_type": "error",
     "traceback": [
      "\u001b[1;31m---------------------------------------------------------------------------\u001b[0m",
      "\u001b[1;31mParserError\u001b[0m                               Traceback (most recent call last)",
      "Input \u001b[1;32mIn [18]\u001b[0m, in \u001b[0;36m<cell line: 1>\u001b[1;34m()\u001b[0m\n\u001b[1;32m----> 1\u001b[0m \u001b[43mpd\u001b[49m\u001b[38;5;241;43m.\u001b[39;49m\u001b[43mread_csv\u001b[49m\u001b[43m(\u001b[49m\u001b[38;5;124;43m'\u001b[39;49m\u001b[38;5;124;43mfragmentsInfoTable.tsv\u001b[39;49m\u001b[38;5;124;43m'\u001b[39;49m\u001b[43m)\u001b[49m\n",
      "File \u001b[1;32m~\\Anaconda3\\lib\\site-packages\\pandas\\util\\_decorators.py:311\u001b[0m, in \u001b[0;36mdeprecate_nonkeyword_arguments.<locals>.decorate.<locals>.wrapper\u001b[1;34m(*args, **kwargs)\u001b[0m\n\u001b[0;32m    305\u001b[0m \u001b[38;5;28;01mif\u001b[39;00m \u001b[38;5;28mlen\u001b[39m(args) \u001b[38;5;241m>\u001b[39m num_allow_args:\n\u001b[0;32m    306\u001b[0m     warnings\u001b[38;5;241m.\u001b[39mwarn(\n\u001b[0;32m    307\u001b[0m         msg\u001b[38;5;241m.\u001b[39mformat(arguments\u001b[38;5;241m=\u001b[39marguments),\n\u001b[0;32m    308\u001b[0m         \u001b[38;5;167;01mFutureWarning\u001b[39;00m,\n\u001b[0;32m    309\u001b[0m         stacklevel\u001b[38;5;241m=\u001b[39mstacklevel,\n\u001b[0;32m    310\u001b[0m     )\n\u001b[1;32m--> 311\u001b[0m \u001b[38;5;28;01mreturn\u001b[39;00m func(\u001b[38;5;241m*\u001b[39margs, \u001b[38;5;241m*\u001b[39m\u001b[38;5;241m*\u001b[39mkwargs)\n",
      "File \u001b[1;32m~\\Anaconda3\\lib\\site-packages\\pandas\\io\\parsers\\readers.py:680\u001b[0m, in \u001b[0;36mread_csv\u001b[1;34m(filepath_or_buffer, sep, delimiter, header, names, index_col, usecols, squeeze, prefix, mangle_dupe_cols, dtype, engine, converters, true_values, false_values, skipinitialspace, skiprows, skipfooter, nrows, na_values, keep_default_na, na_filter, verbose, skip_blank_lines, parse_dates, infer_datetime_format, keep_date_col, date_parser, dayfirst, cache_dates, iterator, chunksize, compression, thousands, decimal, lineterminator, quotechar, quoting, doublequote, escapechar, comment, encoding, encoding_errors, dialect, error_bad_lines, warn_bad_lines, on_bad_lines, delim_whitespace, low_memory, memory_map, float_precision, storage_options)\u001b[0m\n\u001b[0;32m    665\u001b[0m kwds_defaults \u001b[38;5;241m=\u001b[39m _refine_defaults_read(\n\u001b[0;32m    666\u001b[0m     dialect,\n\u001b[0;32m    667\u001b[0m     delimiter,\n\u001b[1;32m   (...)\u001b[0m\n\u001b[0;32m    676\u001b[0m     defaults\u001b[38;5;241m=\u001b[39m{\u001b[38;5;124m\"\u001b[39m\u001b[38;5;124mdelimiter\u001b[39m\u001b[38;5;124m\"\u001b[39m: \u001b[38;5;124m\"\u001b[39m\u001b[38;5;124m,\u001b[39m\u001b[38;5;124m\"\u001b[39m},\n\u001b[0;32m    677\u001b[0m )\n\u001b[0;32m    678\u001b[0m kwds\u001b[38;5;241m.\u001b[39mupdate(kwds_defaults)\n\u001b[1;32m--> 680\u001b[0m \u001b[38;5;28;01mreturn\u001b[39;00m \u001b[43m_read\u001b[49m\u001b[43m(\u001b[49m\u001b[43mfilepath_or_buffer\u001b[49m\u001b[43m,\u001b[49m\u001b[43m \u001b[49m\u001b[43mkwds\u001b[49m\u001b[43m)\u001b[49m\n",
      "File \u001b[1;32m~\\Anaconda3\\lib\\site-packages\\pandas\\io\\parsers\\readers.py:581\u001b[0m, in \u001b[0;36m_read\u001b[1;34m(filepath_or_buffer, kwds)\u001b[0m\n\u001b[0;32m    578\u001b[0m     \u001b[38;5;28;01mreturn\u001b[39;00m parser\n\u001b[0;32m    580\u001b[0m \u001b[38;5;28;01mwith\u001b[39;00m parser:\n\u001b[1;32m--> 581\u001b[0m     \u001b[38;5;28;01mreturn\u001b[39;00m \u001b[43mparser\u001b[49m\u001b[38;5;241;43m.\u001b[39;49m\u001b[43mread\u001b[49m\u001b[43m(\u001b[49m\u001b[43mnrows\u001b[49m\u001b[43m)\u001b[49m\n",
      "File \u001b[1;32m~\\Anaconda3\\lib\\site-packages\\pandas\\io\\parsers\\readers.py:1254\u001b[0m, in \u001b[0;36mTextFileReader.read\u001b[1;34m(self, nrows)\u001b[0m\n\u001b[0;32m   1252\u001b[0m nrows \u001b[38;5;241m=\u001b[39m validate_integer(\u001b[38;5;124m\"\u001b[39m\u001b[38;5;124mnrows\u001b[39m\u001b[38;5;124m\"\u001b[39m, nrows)\n\u001b[0;32m   1253\u001b[0m \u001b[38;5;28;01mtry\u001b[39;00m:\n\u001b[1;32m-> 1254\u001b[0m     index, columns, col_dict \u001b[38;5;241m=\u001b[39m \u001b[38;5;28;43mself\u001b[39;49m\u001b[38;5;241;43m.\u001b[39;49m\u001b[43m_engine\u001b[49m\u001b[38;5;241;43m.\u001b[39;49m\u001b[43mread\u001b[49m\u001b[43m(\u001b[49m\u001b[43mnrows\u001b[49m\u001b[43m)\u001b[49m\n\u001b[0;32m   1255\u001b[0m \u001b[38;5;28;01mexcept\u001b[39;00m \u001b[38;5;167;01mException\u001b[39;00m:\n\u001b[0;32m   1256\u001b[0m     \u001b[38;5;28mself\u001b[39m\u001b[38;5;241m.\u001b[39mclose()\n",
      "File \u001b[1;32m~\\Anaconda3\\lib\\site-packages\\pandas\\io\\parsers\\c_parser_wrapper.py:225\u001b[0m, in \u001b[0;36mCParserWrapper.read\u001b[1;34m(self, nrows)\u001b[0m\n\u001b[0;32m    223\u001b[0m \u001b[38;5;28;01mtry\u001b[39;00m:\n\u001b[0;32m    224\u001b[0m     \u001b[38;5;28;01mif\u001b[39;00m \u001b[38;5;28mself\u001b[39m\u001b[38;5;241m.\u001b[39mlow_memory:\n\u001b[1;32m--> 225\u001b[0m         chunks \u001b[38;5;241m=\u001b[39m \u001b[38;5;28;43mself\u001b[39;49m\u001b[38;5;241;43m.\u001b[39;49m\u001b[43m_reader\u001b[49m\u001b[38;5;241;43m.\u001b[39;49m\u001b[43mread_low_memory\u001b[49m\u001b[43m(\u001b[49m\u001b[43mnrows\u001b[49m\u001b[43m)\u001b[49m\n\u001b[0;32m    226\u001b[0m         \u001b[38;5;66;03m# destructive to chunks\u001b[39;00m\n\u001b[0;32m    227\u001b[0m         data \u001b[38;5;241m=\u001b[39m _concatenate_chunks(chunks)\n",
      "File \u001b[1;32m~\\Anaconda3\\lib\\site-packages\\pandas\\_libs\\parsers.pyx:805\u001b[0m, in \u001b[0;36mpandas._libs.parsers.TextReader.read_low_memory\u001b[1;34m()\u001b[0m\n",
      "File \u001b[1;32m~\\Anaconda3\\lib\\site-packages\\pandas\\_libs\\parsers.pyx:861\u001b[0m, in \u001b[0;36mpandas._libs.parsers.TextReader._read_rows\u001b[1;34m()\u001b[0m\n",
      "File \u001b[1;32m~\\Anaconda3\\lib\\site-packages\\pandas\\_libs\\parsers.pyx:847\u001b[0m, in \u001b[0;36mpandas._libs.parsers.TextReader._tokenize_rows\u001b[1;34m()\u001b[0m\n",
      "File \u001b[1;32m~\\Anaconda3\\lib\\site-packages\\pandas\\_libs\\parsers.pyx:1960\u001b[0m, in \u001b[0;36mpandas._libs.parsers.raise_parser_error\u001b[1;34m()\u001b[0m\n",
      "\u001b[1;31mParserError\u001b[0m: Error tokenizing data. C error: Expected 1 fields in line 4, saw 6\n"
     ]
    }
   ],
   "source": [
    "pd.read_csv('fragmentsInfoTable.tsv')"
   ]
  },
  {
   "cell_type": "code",
   "execution_count": null,
   "id": "ce0949ab",
   "metadata": {},
   "outputs": [],
   "source": []
  },
  {
   "cell_type": "code",
   "execution_count": null,
   "id": "5b1c107b",
   "metadata": {},
   "outputs": [],
   "source": []
  },
  {
   "cell_type": "code",
   "execution_count": null,
   "id": "2b4d00df",
   "metadata": {},
   "outputs": [],
   "source": []
  }
 ],
 "metadata": {
  "kernelspec": {
   "display_name": "Python 3 (ipykernel)",
   "language": "python",
   "name": "python3"
  },
  "language_info": {
   "codemirror_mode": {
    "name": "ipython",
    "version": 3
   },
   "file_extension": ".py",
   "mimetype": "text/x-python",
   "name": "python",
   "nbconvert_exporter": "python",
   "pygments_lexer": "ipython3",
   "version": "3.9.12"
  }
 },
 "nbformat": 4,
 "nbformat_minor": 5
}
