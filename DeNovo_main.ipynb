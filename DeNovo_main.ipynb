{
 "cells": [
  {
   "cell_type": "code",
   "execution_count": 1,
   "id": "9624bf9a",
   "metadata": {},
   "outputs": [],
   "source": [
    "# import libraries\n",
    "from pyopenms import *\n",
    "import os"
   ]
  },
  {
   "cell_type": "code",
   "execution_count": 2,
   "id": "2e379623",
   "metadata": {},
   "outputs": [],
   "source": [
    "# change directory to find file of interest\n",
    "os.chdir(r'C:\\Users\\miar\\Desktop\\data')"
   ]
  },
  {
   "cell_type": "code",
   "execution_count": 3,
   "id": "e62a98b7",
   "metadata": {},
   "outputs": [],
   "source": [
    "#------------------------------------------------------------------------------------------------------------------------------\n",
    "\n",
    "# ONLY NEED TO RUN THE NEXT TWO BLOCKS ONCE\n",
    "\n",
    "#-------------------------------------------------------------------------------------------------------------------------------"
   ]
  },
  {
   "cell_type": "code",
   "execution_count": 4,
   "id": "37311037",
   "metadata": {},
   "outputs": [],
   "source": [
    "# load the content of the mzML file into the exp variable of type MSExperiment\n",
    "#exp = MSExperiment()\n",
    "#MzMLFile().load(\"HEK293T_De_Novo_053122_Glu-C_B_correctRTSenzyme_BP.mzML\", exp)\n",
    "\n",
    "# access the raw data and spectra\n",
    "#spectrum_data = exp.getSpectrum(0).get_peaks()\n",
    "#spectrum_data"
   ]
  },
  {
   "cell_type": "code",
   "execution_count": 5,
   "id": "422c46f3",
   "metadata": {},
   "outputs": [],
   "source": [
    "# loop through the spectra to gather MS2 scans\n",
    "#specM2 = []\n",
    "#for s in exp.getSpectra():\n",
    "#    if s.getMSLevel() == 2:\n",
    "#        specM2.append(s)\n",
    "        \n",
    "#print(\"Number of MS2 scans: \" + str(len(specM2)))\n",
    "\n",
    "#exp.setSpectra(specM2) # keep only MS2\n",
    "\n",
    "# store the modified data structure on disk\n",
    "#MzMLFile().store(\"filtered_MS2.mzML\", exp)"
   ]
  },
  {
   "cell_type": "code",
   "execution_count": 6,
   "id": "fdc7c162",
   "metadata": {},
   "outputs": [],
   "source": [
    "# parse function\n",
    "def parseScanLine(input):\n",
    "    x = input.split(\" For: \")\n",
    "    [scan_number, mzs] = x[1].split(\", \")\n",
    "    [precursor_mz, fragment_mz] = mzs.split(\";\")\n",
    "    return [scan_number, precursor_mz, fragment_mz]"
   ]
  },
  {
   "cell_type": "code",
   "execution_count": 7,
   "id": "cd13a154",
   "metadata": {},
   "outputs": [],
   "source": [
    "# checking lines of log file and creating dictionary of scan numbers and fragment mzs\n",
    "try:\n",
    "  \n",
    "    # words to search for\n",
    "    search = ' Submitted Custom Scan For:'\n",
    "  \n",
    "    # reading file content line by line\n",
    "    scans = []\n",
    "    frag = []\n",
    "    search = ' Submitted Custom Scan For:'   # words to search for\n",
    "    \n",
    "    with open('App-2022-05-31_20-49-35.log') as f:\n",
    "        for line in f:\n",
    "            if search in line:\n",
    "                scan_number, precursor_mz, fragment_mz = parseScanLine(line)\n",
    "                scans.append(scan_number)\n",
    "                frag.append(fragment_mz)\n",
    "    \n",
    "    # trim fragment strings to remove \\n\n",
    "    fragments = [sub[ : -1] for sub in frag]\n",
    "    \n",
    "    # convert lists to dictionary \n",
    "    # keys - scans \n",
    "    # values - fragments \n",
    "    dict1 = dict(zip(scans, fragments))\n",
    "                  \n",
    "    # if the input string doesn't exist in the text file\n",
    "    if len(scans)==0 or len(frag)==0:\n",
    "        print(\"\\n\\\"\" +search+ \"\\\" is not found in \\\"\" +'App-2022-05-31_20-49-35.log'+ \"\\\"!\")\n",
    "    else:\n",
    "        pass\n",
    "\n",
    "except FileNotFoundError:\n",
    "    print(\"The file does not exist!\")"
   ]
  },
  {
   "cell_type": "code",
   "execution_count": 9,
   "id": "7f8dd029",
   "metadata": {},
   "outputs": [],
   "source": [
    "# load in MS2 scans\n",
    "exp1 = MSExperiment()\n",
    "MzMLFile().load(\"filtered_MS2.mzML\", exp1)"
   ]
  },
  {
   "cell_type": "code",
   "execution_count": 137,
   "id": "7f50c82c",
   "metadata": {},
   "outputs": [],
   "source": [
    "# convert scan numbers in dict to list\n",
    "scan_nrs = list(dict1.keys())\n",
    "\n",
    "# filter spectra for scan numbers also found in dict\n",
    "#filtered = MSExperiment()\n",
    "spec_scans = []\n",
    "all_spectra = []\n",
    "for k, s in enumerate(exp1):\n",
    "    if k in list(map(int, scan_nrs)): # convert str to int for every element in list\n",
    "        #filtered.addSpectrum(s)\n",
    "        spec_scans.append(k)\n",
    "        all_spectra.append(s)\n",
    "\n",
    "# next, create peptide object ...\n",
    "# https://pyopenms.readthedocs.io/en/latest/aasequences.html "
   ]
  },
  {
   "cell_type": "code",
   "execution_count": 138,
   "id": "ae53229c",
   "metadata": {},
   "outputs": [],
   "source": [
    "# read in peptide sequence from tsv\n",
    "import pandas as pd\n",
    "tsv = pd.read_csv('HEK293T_De_Novo_053122_Glu-C_B_correctRTSenzyme_BP_realtimesearch1.tsv', sep='\\t')\n",
    "\n",
    "# create dictionary with scan # as key and sequence/charge as values\n",
    "dict2 = dict([(i, [x,y]) for i, x,y, in zip(tsv['Scan Number'], tsv['Peptide'], tsv['Charge State'])])\n",
    "\n",
    "# removing all NaN sequences (not useful)\n",
    "dict2_modified = {k:v for k,v in dict2.items() if str(v[0]) != 'nan'}"
   ]
  },
  {
   "cell_type": "code",
   "execution_count": 139,
   "id": "690f8485",
   "metadata": {},
   "outputs": [],
   "source": [
    "# isolate sequences/scan numbers from dict2 for scan numbers found in both dict2 and filtered spectra\n",
    "seqs = []\n",
    "scan_nums = []\n",
    "for i in spec_scans:\n",
    "    if i in dict2_modified:\n",
    "        seqs.append(dict2_modified[i][0])\n",
    "        scan_nums.append(i)\n",
    "        \n",
    "# isolate portion of sequence between the periods       \n",
    "trimmed_seqs = [] \n",
    "for i in seqs: \n",
    "    trimmed_seqs.append(i[2:-2]) # remove first two and last two characters in str "
   ]
  },
  {
   "cell_type": "code",
   "execution_count": 140,
   "id": "13db8203",
   "metadata": {},
   "outputs": [],
   "source": [
    "# create a peptide object for ID'd scans \n",
    "pept_objects = []\n",
    "for i in trimmed_seqs:\n",
    "    pept_objects.append(AASequence.fromString(i))"
   ]
  },
  {
   "cell_type": "code",
   "execution_count": 141,
   "id": "e3627ec3",
   "metadata": {},
   "outputs": [],
   "source": [
    "def findFragments(input):\n",
    "    # loop through each prefix and suffix (b and y ions, respectively)\n",
    "    try:\n",
    "        # y and b ions\n",
    "        y_ions = []\n",
    "        b_ions = []\n",
    "        for i in range(1, (len(trimmed_seqs[input]) - 1)): # start at index of 1, end at peptide length - 1\n",
    "            y_ions.append(pept_objects[input].getSuffix(i))\n",
    "            b_ions.append(pept_objects[input].getPrefix(i))\n",
    "\n",
    "    except RuntimeError: # range above may be too large for indexing when considering modifications (ex. [15.9949])\n",
    "        print('Modifications resulted in abnormal indexing for sequence: ' + str(pept_objects[input])) \n",
    "\n",
    "        # will have to remove \"fragment\" that is now the entire peptide length instead of peptide length - 1\n",
    "        del y_ions[-1]\n",
    "        del b_ions[-1]\n",
    "        \n",
    "    def loopChargeStates():\n",
    "        # isolate charges from dict2\n",
    "        charges = []\n",
    "        for i in scan_nums:\n",
    "            charges.append(dict2_modified[i][1])\n",
    "    \n",
    "        # computing fragment mzs\n",
    "        # compute all y_ion mzs\n",
    "        y_ion_mzs = []\n",
    "        for i in y_ions:\n",
    "            for x in range(1, charges[input]):\n",
    "                mz_y = i.getMonoWeight(Residue.ResidueType.YIon, x) / x\n",
    "                y_ion_mzs.append(mz_y)   \n",
    "        # compute all b_ion mzs\n",
    "        b_ion_mzs = []\n",
    "        for i in b_ions:\n",
    "            for x in range(1, charges[input]):\n",
    "                mz_b = i.getMonoWeight(Residue.ResidueType.BIon, x) / x\n",
    "                b_ion_mzs.append(mz_b)\n",
    "        return y_ion_mzs, b_ion_mzs\n",
    "    \n",
    "    y_ion_mzs, b_ion_mzs = loopChargeStates()\n",
    "    \n",
    "    # find fragments in associated spectrum\n",
    "    # dict for ALL spec scan numbers and associated spectrum\n",
    "    dict3 = dict(zip(spec_scans, all_spectra))\n",
    "    \n",
    "    # scans of interest are all in scan_nums\n",
    "    dict3_modified = {k:v for k, v in dict3.items() if k in scan_nums}\n",
    "    spectrum_list = list(dict3_modified.values()) # the spectra we care about\n",
    "\n",
    "    y_indices = []\n",
    "    for i in y_ion_mzs:\n",
    "        y_indices.append(spectrum_list[input].findNearest(i, 0.4))\n",
    "    b_indices = []\n",
    "    for i in b_ion_mzs:\n",
    "        b_indices.append(spectrum_list[input].findNearest(i, 0.4))\n",
    "\n",
    "    return y_indices, b_indices"
   ]
  },
  {
   "cell_type": "code",
   "execution_count": 146,
   "id": "8ef091fd",
   "metadata": {},
   "outputs": [
    {
     "name": "stdout",
     "output_type": "stream",
     "text": [
      "Modifications resulted in abnormal indexing for sequence: ASPDPMLEPM[15.9949]SWRGNIHE\n"
     ]
    }
   ],
   "source": [
    "# 1st sequence\n",
    "y_indices, b_indices = findFragments(0)"
   ]
  },
  {
   "cell_type": "code",
   "execution_count": 59,
   "id": "9afca3e2",
   "metadata": {},
   "outputs": [],
   "source": [
    "# 2nd sequence\n",
    "y_indices, b_indices = findFragments(1)"
   ]
  },
  {
   "cell_type": "code",
   "execution_count": null,
   "id": "ff666f51",
   "metadata": {},
   "outputs": [],
   "source": [
    "# etc etc"
   ]
  },
  {
   "cell_type": "code",
   "execution_count": null,
   "id": "8591d263",
   "metadata": {},
   "outputs": [],
   "source": [
    "# next....\n",
    "# how many times we didn't see any peaks that correspond to the fragmentation at a specific peptide bond "
   ]
  }
 ],
 "metadata": {
  "kernelspec": {
   "display_name": "Python 3 (ipykernel)",
   "language": "python",
   "name": "python3"
  },
  "language_info": {
   "codemirror_mode": {
    "name": "ipython",
    "version": 3
   },
   "file_extension": ".py",
   "mimetype": "text/x-python",
   "name": "python",
   "nbconvert_exporter": "python",
   "pygments_lexer": "ipython3",
   "version": "3.9.12"
  }
 },
 "nbformat": 4,
 "nbformat_minor": 5
}
