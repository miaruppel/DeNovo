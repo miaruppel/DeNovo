{
 "cells": [
  {
   "cell_type": "code",
   "execution_count": 1,
   "id": "9624bf9a",
   "metadata": {},
   "outputs": [],
   "source": [
    "# import libraries\n",
    "from pyopenms import *\n",
    "import os"
   ]
  },
  {
   "cell_type": "code",
   "execution_count": 2,
   "id": "f48aa6d8",
   "metadata": {},
   "outputs": [],
   "source": [
    "# change directory to find file of interest\n",
    "os.chdir(r'C:\\Users\\miar\\Desktop')"
   ]
  },
  {
   "cell_type": "code",
   "execution_count": 3,
   "id": "37311037",
   "metadata": {},
   "outputs": [],
   "source": [
    "# load the content of the mzML file into the exp variable of type MSExperiment\n",
    "exp = MSExperiment()\n",
    "MzMLFile().load(\"HEK293T_De_Novo_053122_Glu-C_B_correctRTSenzyme_BP.mzML\", exp)"
   ]
  },
  {
   "cell_type": "code",
   "execution_count": 4,
   "id": "3ec00e2c",
   "metadata": {},
   "outputs": [],
   "source": [
    "# access the raw data and spectra\n",
    "spectrum_data = exp.getSpectrum(0).get_peaks()\n",
    "chromatogram_data = exp.getChromatogram(0).get_peaks()\n",
    "# allows us to compute on spectra and chromatogram data"
   ]
  },
  {
   "cell_type": "code",
   "execution_count": 5,
   "id": "6c72e1dc",
   "metadata": {},
   "outputs": [],
   "source": [
    "# peak at data\n",
    "#spectrum_data\n",
    "#chromatogram_data"
   ]
  },
  {
   "cell_type": "code",
   "execution_count": 6,
   "id": "422c46f3",
   "metadata": {},
   "outputs": [
    {
     "name": "stdout",
     "output_type": "stream",
     "text": [
      "Number of MS1 scans: 6680\n",
      "Number of MS2 scans: 74458\n"
     ]
    }
   ],
   "source": [
    "# loop through the spectra to check for MS1 and MS2\n",
    "specM1 = []\n",
    "specM2 = []\n",
    "for s in exp.getSpectra():\n",
    "    if s.getMSLevel() == 1:\n",
    "        specM1.append(s)\n",
    "    elif s.getMSLevel() == 2:\n",
    "        specM2.append(s)\n",
    "        \n",
    "print(\"Number of MS1 scans: \" + str(len(specM1)))\n",
    "print(\"Number of MS2 scans: \" + str(len(specM2)))\n",
    "\n",
    "exp.setSpectra(specM2) # keep only MS2"
   ]
  },
  {
   "cell_type": "code",
   "execution_count": 7,
   "id": "5c14e6e0",
   "metadata": {},
   "outputs": [],
   "source": [
    "# store the modified data structure on disk\n",
    "MzMLFile().store(\"filtered.mzML\", exp)"
   ]
  },
  {
   "cell_type": "code",
   "execution_count": null,
   "id": "0c0e9445",
   "metadata": {},
   "outputs": [],
   "source": []
  }
 ],
 "metadata": {
  "kernelspec": {
   "display_name": "Python 3 (ipykernel)",
   "language": "python",
   "name": "python3"
  },
  "language_info": {
   "codemirror_mode": {
    "name": "ipython",
    "version": 3
   },
   "file_extension": ".py",
   "mimetype": "text/x-python",
   "name": "python",
   "nbconvert_exporter": "python",
   "pygments_lexer": "ipython3",
   "version": "3.9.12"
  }
 },
 "nbformat": 4,
 "nbformat_minor": 5
}
