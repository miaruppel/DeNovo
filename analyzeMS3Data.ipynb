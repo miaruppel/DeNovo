{
 "cells": [
  {
   "cell_type": "code",
   "execution_count": 1,
   "id": "287fdbb3",
   "metadata": {},
   "outputs": [],
   "source": [
    "# import libraries\n",
    "from pyopenms import * # main package used for handling MS data\n",
    "import os # changing directories\n",
    "import pandas as pd # to read in tsv and for dataframe creation/manipulation\n",
    "import subprocess # running R script \n",
    "import matplotlib.pyplot as plt # for bar graph"
   ]
  },
  {
   "cell_type": "code",
   "execution_count": 2,
   "id": "5f395172",
   "metadata": {},
   "outputs": [
    {
     "name": "stdout",
     "output_type": "stream",
     "text": [
      "Experiment Files: \n",
      "HEK293T_De_Novo_061122_Glu-C_B_BP_anyLength_HCD30.mzML\n",
      "App-2022-06-12_22-28-53.log\n",
      "HEK293T_De_Novo_061122_Glu-C_B_BP_anyLength_HCD30_realtimesearch.tsv\n",
      "Number of MS2 scans: 81780\n",
      "Number of MS3 scans: 681\n",
      "Precursor mzs match up after taking rounding discrepencies into consideration\n",
      "Fragment mzs match up perfectly!\n"
     ]
    }
   ],
   "source": [
    "# after running main script\n",
    "# change experiment files in DeNovo_main.py as well for now\n",
    "from DeNovo_main import *"
   ]
  },
  {
   "cell_type": "code",
   "execution_count": 3,
   "id": "7fcb2f63",
   "metadata": {},
   "outputs": [],
   "source": [
    "# currently, 'locations found' represents distance from n terminus for the FRAGMENT sequence \n",
    "# want the location as a distance from the n terminus for the entire peptide sequence \n",
    "# can then easily match locations between MS3 and MS2\n",
    "locations = []\n",
    "for i in new_fragment_df.index:\n",
    "    if new_fragment_df['Target_Fragment'][i].startswith('y'):\n",
    "        frag_length = len(new_fragment_df['Fragment_Sequence'][i])\n",
    "        whole_seq_length = new_fragment_df['Sequence_Length'][i]\n",
    "        starting_loc = whole_seq_length - frag_length # starting point - location from n terminus \n",
    "        \n",
    "    elif new_fragment_df['Target_Fragment'][i].startswith('b'):\n",
    "        starting_loc = 0 # starts at beginning of sequence\n",
    "\n",
    "    test = []\n",
    "    for x in new_fragment_df['Locations_Found'][i]:\n",
    "        location = starting_loc + x\n",
    "        \n",
    "        test.append(location)\n",
    "        \n",
    "    locations.append(test) # distance away from n terminus \n",
    "\n",
    "# overwrite locations column to resemble location from n terminus for entire sequence \n",
    "new_fragment_df['Locations_Found'] = locations\n",
    "\n",
    "# clean up df to remove info that is now irrelevant\n",
    "checkMS3 = new_fragment_df.drop(columns=['Charge', 'Sequence_Length', 'Target_Fragment', 'Number_Missing'])"
   ]
  },
  {
   "cell_type": "code",
   "execution_count": 4,
   "id": "9497cab5",
   "metadata": {},
   "outputs": [],
   "source": [
    "# convert missing locations strings to list for checking false positives\n",
    "loc_list = []\n",
    "for string in list(checkMS3['Missing_Fragment_Locations']):\n",
    "    loc_list.append(string.split(','))\n",
    "new_fragment_df = new_fragment_df.assign(Missing_Fragment_Locations=loc_list)"
   ]
  },
  {
   "cell_type": "code",
   "execution_count": 5,
   "id": "1bcbf931",
   "metadata": {},
   "outputs": [],
   "source": [
    "def switchSeq():\n",
    "    # necessary to convert to peptide object due to some sequences with modifications\n",
    "    peptide_object = AASequence.fromString(new_fragment_df['Sequence'][i])\n",
    "    b_ion = peptide_object.getPrefix(int(loc))\n",
    "    y_ion = peptide_object.getSuffix(int(new_fragment_df['Sequence_Length'][i])-int(loc))\n",
    "                \n",
    "    # convert ions to strings and switch characters\n",
    "    # first character of y ion sequence becomes last character of b ion sequence\n",
    "    # last character of b ion sequence becomes first character of y ion sequence\n",
    "    if str(b_ion)[-1] == ']': # to deal with cases when b ion ends in modification\n",
    "        skip_brackets_b = str(b_ion)[:-10]\n",
    "        b_seq = skip_brackets_b + str(y_ion)[0]\n",
    "\n",
    "        skip_brackets_y  = str(b_ion)[-10:]\n",
    "        y_seq = skip_brackets_y + str(y_ion)[1:]\n",
    "        \n",
    "    elif str(y_ion).startswith('M['):\n",
    "        include_mod_b = str(y_ion)[:10]\n",
    "        b_seq = str(b_ion)[:-1] + include_mod_b\n",
    "\n",
    "        include_mod_y = str(y_ion)[10:]\n",
    "        y_seq = str(b_ion)[-1] + include_mod_y\n",
    "        \n",
    "    else:\n",
    "        b_seq = str(b_ion)[:-1] + str(y_ion)[0]\n",
    "        y_seq = str(b_ion)[-1] + str(y_ion)[1:]\n",
    "              \n",
    "    # convert switched sequences back to peptide objects\n",
    "    peptide_b = AASequence.fromString(b_seq)\n",
    "    peptide_y = AASequence.fromString(y_seq)\n",
    "\n",
    "    return peptide_b, peptide_y"
   ]
  },
  {
   "cell_type": "code",
   "execution_count": 6,
   "id": "dee4f057",
   "metadata": {},
   "outputs": [],
   "source": [
    "# for every target for an MS3, check false positive rate for incorrect sequence (ex. PE vs EP)\n",
    "total = []\n",
    "false_pos = []\n",
    "\n",
    "for i in new_fragment_df.index:\n",
    "    if new_fragment_df['Target_Fragment'][i].startswith('y'):\n",
    "        frag_length = len(new_fragment_df['Fragment_Sequence'][i])\n",
    "        whole_seq_length = new_fragment_df['Sequence_Length'][i]\n",
    "        starting_loc = whole_seq_length - frag_length # starting point - location from n terminus \n",
    "        \n",
    "    elif new_fragment_df['Target_Fragment'][i].startswith('b'):\n",
    "        starting_loc = 0 # starts at beginning of sequence\n",
    "    \n",
    "    # needed for range\n",
    "    end_loc = starting_loc + len(new_fragment_df['Fragment_Sequence'][i]) \n",
    "    \n",
    "    # charge for this scan\n",
    "    charge = new_fragment_df['Charge'][i]\n",
    "    \n",
    "    for loc in new_fragment_df['Missing_Fragment_Locations'][i]:\n",
    "        if loc == '':\n",
    "            new_fragment_df.drop(i, axis=0, inplace=True) # remove indices that are not missing any fragments\n",
    "            \n",
    "        elif int(loc) in range(starting_loc, end_loc): \n",
    "            if new_fragment_df['Target_Fragment'][i].startswith('y'): # separate to deal with internal fragment issue\n",
    "                \n",
    "                peptide_b, peptide_y = switchSeq()\n",
    "                \n",
    "                for z in range(1, charge):\n",
    "                    mz_y = peptide_y.getMonoWeight(Residue.ResidueType.YIon, z) / z\n",
    "                    y_index = specM3[i].findNearest(mz_y, 0.4)\n",
    "                \n",
    "                    mz_b = peptide_b.getMonoWeight(Residue.ResidueType.Internal, z) / z\n",
    "                    b_index = specM3[i].findNearest(mz_b, 0.4)\n",
    "                    \n",
    "                    if (y_index and b_index) != -1:\n",
    "                        print('Location ' + loc + ' was found at index ' + str(i) + ' for y target')\n",
    "                        false_pos.append(i)\n",
    "                        \n",
    "                    total.append('y_ion for index ' + str(i) + ' checked at location ' + str(loc))\n",
    "                    total.append('b_ion for index ' + str(i) + ' checked at location ' + str(loc))   \n",
    "            \n",
    "            elif new_fragment_df['Target_Fragment'][i].startswith('b'): # separate to deal with internal fragment issue\n",
    "                \n",
    "                peptide_b, peptide_y = switchSeq()\n",
    "                \n",
    "                for z in range(1, charge):\n",
    "                    mz_b = peptide_b.getMonoWeight(Residue.ResidueType.BIon, z) / z\n",
    "                    b_index = specM3[i].findNearest(mz_b, 0.4)\n",
    "                    \n",
    "                    mz_y = peptide_y.getMonoWeight(Residue.ResidueType.Internal, z) / z\n",
    "                    y_index = specM3[i].findNearest(mz_y, 0.4)\n",
    "                \n",
    "                    if (y_index and b_index) != -1:\n",
    "                        print('Location ' + loc + ' was found at index ' + str(i) + ' for b target')\n",
    "                        false_pos.append(i)\n",
    "                    \n",
    "                    total.append('y_ion for index ' + str(i) + ' checked at location ' + str(loc))\n",
    "                    total.append('b_ion for index ' + str(i) + ' checked at location ' + str(loc))"
   ]
  },
  {
   "cell_type": "code",
   "execution_count": 7,
   "id": "33aff2b1",
   "metadata": {},
   "outputs": [
    {
     "name": "stdout",
     "output_type": "stream",
     "text": [
      "Percentage of False Positives: 0.0%\n"
     ]
    }
   ],
   "source": [
    "# percentage of false positives\n",
    "print('Percentage of False Positives: ' + str((len(false_pos) / len(total)) * 100) + '%')"
   ]
  },
  {
   "cell_type": "code",
   "execution_count": 8,
   "id": "685be555",
   "metadata": {},
   "outputs": [],
   "source": [
    "ms3_index = list(checkMS3.index) # so we can easily check between dataframes with different indices\n",
    "found = [] # list of fragments found (missing in MS2, were found in MS3)\n",
    "\n",
    "# look throughout both dataframes to find any missing fragments\n",
    "for i in checkfrags_df.index:\n",
    "    scan = checkfrags_df['\"Scan_Number\"'][i]\n",
    "    \n",
    "    # for scans in both dataframes \n",
    "    if str(scan) in list(checkMS3['Scan_Number']):\n",
    "        \n",
    "        # what is the index of this scan in the checkMS3 df?\n",
    "        for ind in ms3_index:\n",
    "            if str(scan) == checkMS3['Scan_Number'][ind]:\n",
    "                index = ind\n",
    "        \n",
    "        # if there is only one location found in MS3 to check\n",
    "        if len(checkMS3['Locations_Found'][index]) == 1:\n",
    "            if checkMS3['Locations_Found'][index] == [int(checkfrags_df['\"nTerminusEnd\"'][i])]:\n",
    "                found.append('Location matched')\n",
    "                #print(checkMS3.iloc[index])\n",
    "                #print(int(checkfrags_df['\"nTerminusEnd\"'][i]))\n",
    "        \n",
    "        # multiple locations to check in a single scan\n",
    "        elif len(checkMS3['Locations_Found'][index]) > 1:\n",
    "            \n",
    "            if any(loc == int(checkfrags_df['\"nTerminusEnd\"'][i]) for loc in checkMS3['Locations_Found'][index]):\n",
    "                found.append('Location matched')"
   ]
  },
  {
   "cell_type": "code",
   "execution_count": 9,
   "id": "223f6b44",
   "metadata": {},
   "outputs": [
    {
     "data": {
      "image/png": "[encoded data removed]",
      "text/plain": [
       "<Figure size 432x288 with 1 Axes>"
      ]
     },
     "metadata": {
      "needs_background": "light"
     },
     "output_type": "display_data"
    }
   ],
   "source": [
    "# visualize the percentage of fragments that could potentially be found in MS3\n",
    "plt.title(mzML)\n",
    "plt.bar('Targeted MS3 Doesn\\'t Help', len(ms3no_help),  color='maroon')\n",
    "plt.bar('Targeted MS3 Could Help', len(ms3could_help), color='crimson')\n",
    "\n",
    "plt.show()\n",
    "#plt.savefig('TargetFragCouldHelp.png')"
   ]
  },
  {
   "cell_type": "code",
   "execution_count": 10,
   "id": "bc888ad0",
   "metadata": {},
   "outputs": [
    {
     "data": {
      "image/png": "[encoded data removed]",
      "text/plain": [
       "<Figure size 432x288 with 1 Axes>"
      ]
     },
     "metadata": {
      "needs_background": "light"
     },
     "output_type": "display_data"
    }
   ],
   "source": [
    "# visualize the percentage of fragments that were actually found\n",
    "plt.title(mzML)\n",
    "plt.bar('Targeted MS3 Could Help', len(ms3could_help), color='crimson')\n",
    "plt.bar('Fragment was Found in MS3', len(found), color='coral')\n",
    "\n",
    "plt.show()\n",
    "#plt.savefig('FragFound.png')"
   ]
  },
  {
   "cell_type": "code",
   "execution_count": 11,
   "id": "179ec79d",
   "metadata": {},
   "outputs": [
    {
     "name": "stdout",
     "output_type": "stream",
     "text": [
      "Percentage of Fragments Found From MS3 Targets that COULD Help: 1.0582010582010581%\n"
     ]
    }
   ],
   "source": [
    "# percentage of frags found in the target \n",
    "print('Percentage of Fragments Found From MS3 Targets that COULD Help: ' + str((len(found) / len(ms3could_help)) * 100) + '%')"
   ]
  },
  {
   "cell_type": "code",
   "execution_count": null,
   "id": "91ce297c",
   "metadata": {},
   "outputs": [],
   "source": []
  }
 ],
 "metadata": {
  "kernelspec": {
   "display_name": "Python 3 (ipykernel)",
   "language": "python",
   "name": "python3"
  },
  "language_info": {
   "codemirror_mode": {
    "name": "ipython",
    "version": 3
   },
   "file_extension": ".py",
   "mimetype": "text/x-python",
   "name": "python",
   "nbconvert_exporter": "python",
   "pygments_lexer": "ipython3",
   "version": "3.9.12"
  }
 },
 "nbformat": 4,
 "nbformat_minor": 5
}
