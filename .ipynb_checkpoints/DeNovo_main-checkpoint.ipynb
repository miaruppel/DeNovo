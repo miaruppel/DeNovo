{
 "cells": [
  {
   "cell_type": "code",
   "execution_count": 1,
   "id": "9624bf9a",
   "metadata": {},
   "outputs": [],
   "source": [
    "# import libraries\n",
    "from pyopenms import *\n",
    "import os"
   ]
  },
  {
   "cell_type": "code",
   "execution_count": 2,
   "id": "2e379623",
   "metadata": {},
   "outputs": [],
   "source": [
    "# change directory to find file of interest\n",
    "os.chdir(r'C:\\Users\\miar\\Desktop\\data')"
   ]
  },
  {
   "cell_type": "code",
   "execution_count": 3,
   "id": "37311037",
   "metadata": {},
   "outputs": [],
   "source": [
    "# load the content of the mzML file into the exp variable of type MSExperiment\n",
    "exp = MSExperiment()\n",
    "MzMLFile().load(\"HEK293T_De_Novo_053122_Glu-C_B_correctRTSenzyme_BP.mzML\", exp)\n",
    "\n",
    "# access the raw data and spectra\n",
    "#spectrum_data = exp.getSpectrum(0).get_peaks()\n",
    "#spectrum_data"
   ]
  },
  {
   "cell_type": "code",
   "execution_count": 4,
   "id": "422c46f3",
   "metadata": {},
   "outputs": [],
   "source": [
    "# loop through the spectra to gather MS2 scans\n",
    "\n",
    "specM2 = []\n",
    "for s in exp.getSpectra():\n",
    "    if s.getMSLevel() == 2:\n",
    "        specM2.append(s)\n",
    "        \n",
    "#print(\"Number of MS2 scans: \" + str(len(specM2)))\n",
    "\n",
    "exp.setSpectra(specM2) # keep only MS2\n",
    "\n",
    "# store the modified data structure on disk\n",
    "MzMLFile().store(\"filtered_MS2.mzML\", exp)"
   ]
  },
  {
   "cell_type": "code",
   "execution_count": 5,
   "id": "fdc7c162",
   "metadata": {},
   "outputs": [],
   "source": [
    "# parse function\n",
    "def parseScanLine(input):\n",
    "    x = input.split(\" For: \")\n",
    "    [scan_number, mzs] = x[1].split(\", \")\n",
    "    [precursor_mz, fragment_mz] = mzs.split(\";\")\n",
    "    return [scan_number, precursor_mz, fragment_mz]"
   ]
  },
  {
   "cell_type": "code",
   "execution_count": 6,
   "id": "cd13a154",
   "metadata": {},
   "outputs": [],
   "source": [
    "# checking lines of log file and creating dictionary of scan numbers and fragment mzs\n",
    "try:\n",
    "  \n",
    "    # words to search for\n",
    "    search = ' Submitted Custom Scan For:'\n",
    "  \n",
    "    # reading file content line by line\n",
    "    scans = []\n",
    "    frag = []\n",
    "    search = ' Submitted Custom Scan For:'   # words to search for\n",
    "    \n",
    "    with open('App-2022-05-31_20-49-35.log') as f:\n",
    "        for line in f:\n",
    "            if search in line:\n",
    "                scan_number, precursor_mz, fragment_mz = parseScanLine(line)\n",
    "                scans.append(scan_number)\n",
    "                frag.append(fragment_mz)\n",
    "    \n",
    "    # trim fragment strings to remove \\n\n",
    "    fragments = [sub[ : -1] for sub in frag]\n",
    "    \n",
    "    # convert lists to dictionary \n",
    "    # keys - scans \n",
    "    # values - fragments \n",
    "    dict1 = dict(zip(scans, fragments))\n",
    "                  \n",
    "    # if the input string doesn't exist in the text file\n",
    "    if len(scans)==0 or len(frag)==0:\n",
    "        print(\"\\n\\\"\" +search+ \"\\\" is not found in \\\"\" +'App-2022-05-31_20-49-35.log'+ \"\\\"!\")\n",
    "    else:\n",
    "        pass\n",
    "\n",
    "except FileNotFoundError:\n",
    "    print(\"The file does not exist!\")"
   ]
  },
  {
   "cell_type": "code",
   "execution_count": 39,
   "id": "85a73287",
   "metadata": {},
   "outputs": [],
   "source": [
    "#dict1"
   ]
  },
  {
   "cell_type": "code",
   "execution_count": 8,
   "id": "7f8dd029",
   "metadata": {},
   "outputs": [],
   "source": [
    "# load in MS2 scans\n",
    "# is this step necessary ???\n",
    "exp1 = MSExperiment()\n",
    "MzMLFile().load(\"filtered_MS2.mzML\", exp1)"
   ]
  },
  {
   "cell_type": "code",
   "execution_count": 9,
   "id": "7f50c82c",
   "metadata": {},
   "outputs": [],
   "source": [
    "# convert scan numbers in dict to list\n",
    "scan_nrs = list(dict1.keys())\n",
    "\n",
    "# filter spectra for scan numbers also found in dict\n",
    "filtered = MSExperiment()\n",
    "spec_scans = []\n",
    "for k, s in enumerate(exp1):\n",
    "    if k in list(map(int, scan_nrs)): # convert str to int for every element in list\n",
    "        filtered.addSpectrum(s)\n",
    "        spec_scans.append(k)\n",
    "\n",
    "# next, create peptide object ...\n",
    "# https://pyopenms.readthedocs.io/en/latest/aasequences.html "
   ]
  },
  {
   "cell_type": "code",
   "execution_count": 57,
   "id": "f854e93d",
   "metadata": {},
   "outputs": [],
   "source": [
    "#spec_scans"
   ]
  },
  {
   "cell_type": "code",
   "execution_count": 10,
   "id": "ae53229c",
   "metadata": {},
   "outputs": [],
   "source": [
    "# read in peptide sequence from tsv\n",
    "import pandas as pd\n",
    "tsv = pd.read_csv('HEK293T_De_Novo_053122_Glu-C_B_correctRTSenzyme_BP_realtimesearch1.tsv', sep='\\t')\n",
    "\n",
    "# create dictionary with scan # as key and sequence/charge as values\n",
    "dict2 = dict([(i, [x,y]) for i, x,y, in zip(tsv['Scan Number'], tsv['Peptide'], tsv['Charge State'])])"
   ]
  },
  {
   "cell_type": "code",
   "execution_count": 58,
   "id": "78eb6a61",
   "metadata": {},
   "outputs": [],
   "source": [
    "#dict2"
   ]
  },
  {
   "cell_type": "code",
   "execution_count": 32,
   "id": "690f8485",
   "metadata": {},
   "outputs": [],
   "source": [
    "# isolate sequences from dict2 for scan numbers found in both dict2 and filtered spectra\n",
    "seqs = []\n",
    "for i in spec_scans:\n",
    "    if i in dict2:\n",
    "        seqs.append(dict2[i][0])\n",
    "        \n",
    "# isolate portion of sequence between the periods       \n",
    "seqs_str = list(map(str, seqs)) # converts NaN (float) lines (and all lines) to str\n",
    "trimmed_seqs = [] \n",
    "for i in seqs_str: \n",
    "    if i != 'nan':\n",
    "        trimmed_seqs.append(i[2:-2]) # remove first two and last two characters in str \n",
    "    elif i == 'nan':\n",
    "        pass # disregard NaN values"
   ]
  },
  {
   "cell_type": "code",
   "execution_count": 59,
   "id": "17cd618a",
   "metadata": {},
   "outputs": [],
   "source": [
    "#seqs"
   ]
  },
  {
   "cell_type": "code",
   "execution_count": 13,
   "id": "ef380fe2",
   "metadata": {},
   "outputs": [
    {
     "data": {
      "text/plain": [
       "3620"
      ]
     },
     "execution_count": 13,
     "metadata": {},
     "output_type": "execute_result"
    }
   ],
   "source": [
    "# number of scans in dict1 (log file)\n",
    "len(scan_nrs)"
   ]
  },
  {
   "cell_type": "code",
   "execution_count": 14,
   "id": "34851f1a",
   "metadata": {},
   "outputs": [
    {
     "data": {
      "text/plain": [
       "3457"
      ]
     },
     "execution_count": 14,
     "metadata": {},
     "output_type": "execute_result"
    }
   ],
   "source": [
    "# number of scans in filtered MS2 spectrum\n",
    "len(spec_scans)"
   ]
  },
  {
   "cell_type": "code",
   "execution_count": 33,
   "id": "e1887736",
   "metadata": {},
   "outputs": [
    {
     "data": {
      "text/plain": [
       "3371"
      ]
     },
     "execution_count": 33,
     "metadata": {},
     "output_type": "execute_result"
    }
   ],
   "source": [
    "# number of matched scans between spectrumm data and dict2 (tsv file)\n",
    "len(seqs)"
   ]
  },
  {
   "cell_type": "code",
   "execution_count": 41,
   "id": "640d6068",
   "metadata": {},
   "outputs": [
    {
     "data": {
      "text/plain": [
       "3339"
      ]
     },
     "execution_count": 41,
     "metadata": {},
     "output_type": "execute_result"
    }
   ],
   "source": [
    "# number of sequences after NaNs removed\n",
    "len(trimmed_seqs)"
   ]
  },
  {
   "cell_type": "code",
   "execution_count": 36,
   "id": "13db8203",
   "metadata": {},
   "outputs": [],
   "source": [
    "# if scan number in spectra data is also found in dict, create a peptide object \n",
    "pept_objects = []\n",
    "for i in trimmed_seqs:\n",
    "    pept_objects.append(AASequence.fromString(i))"
   ]
  },
  {
   "cell_type": "code",
   "execution_count": 38,
   "id": "9343a789",
   "metadata": {},
   "outputs": [],
   "source": [
    "# check which fragments are present in the spectrum\n",
    "# for first peptide object/sequence in list\n",
    "\n",
    "# loop through each prefix and suffix (b and y ions, respectively)\n",
    "try:\n",
    "    # y and b ions\n",
    "    y_ions = []\n",
    "    b_ions = []\n",
    "    for i in range(len(trimmed_seqs[0])):\n",
    "        y_ions.append(pept_objects[0].getSuffix(i))\n",
    "        b_ions.append(pept_objects[0].getPrefix(i))\n",
    "        \n",
    "except RuntimeError: # range above may be too large sometimes when considering modifications (ex. [15.9949])\n",
    "    pass "
   ]
  },
  {
   "cell_type": "code",
   "execution_count": null,
   "id": "acd6c1e2",
   "metadata": {},
   "outputs": [],
   "source": [
    "# for each ion look through all possible charge states\n",
    "\n",
    "# isolate charges from dict2\n",
    "charges = []\n",
    "for i in seqs:\n",
    "    if i != 'nan':\n",
    "        charges.append(dict2[i][1])\n",
    "        "
   ]
  },
  {
   "cell_type": "code",
   "execution_count": null,
   "id": "0bdb42ee",
   "metadata": {},
   "outputs": [],
   "source": []
  },
  {
   "cell_type": "code",
   "execution_count": null,
   "id": "10cf907d",
   "metadata": {},
   "outputs": [],
   "source": []
  },
  {
   "cell_type": "code",
   "execution_count": null,
   "id": "8f155a72",
   "metadata": {},
   "outputs": [],
   "source": []
  },
  {
   "cell_type": "code",
   "execution_count": null,
   "id": "b4a1fd5b",
   "metadata": {},
   "outputs": [],
   "source": []
  },
  {
   "cell_type": "code",
   "execution_count": null,
   "id": "b04bf7f7",
   "metadata": {},
   "outputs": [],
   "source": [
    "print(\"y mz:\", suffix.getMonoWeight(Residue.ResidueType.YIon, 2) / 2.0 )"
   ]
  },
  {
   "cell_type": "code",
   "execution_count": null,
   "id": "d9460d6f",
   "metadata": {},
   "outputs": [],
   "source": []
  },
  {
   "cell_type": "code",
   "execution_count": null,
   "id": "b1a6138d",
   "metadata": {},
   "outputs": [],
   "source": []
  },
  {
   "cell_type": "code",
   "execution_count": null,
   "id": "217f9b65",
   "metadata": {},
   "outputs": [],
   "source": []
  },
  {
   "cell_type": "code",
   "execution_count": null,
   "id": "8c5078f5",
   "metadata": {},
   "outputs": [],
   "source": []
  },
  {
   "cell_type": "code",
   "execution_count": null,
   "id": "6b97b07d",
   "metadata": {},
   "outputs": [],
   "source": [
    "suffix = seq.getSuffix(3) # y3 ion \"GER\"\n",
    "print(\"=\"*35)\n",
    "print(\"y3 ion sequence:\", suffix)\n",
    "y3_formula = suffix.getFormula(Residue.ResidueType.YIon, 2) # y3++ ion\n",
    "suffix.getMonoWeight(Residue.ResidueType.YIon, 2) / 2.0 # CORRECT\n",
    "suffix.getMonoWeight(Residue.ResidueType.XIon, 2) / 2.0 # CORRECT\n",
    "suffix.getMonoWeight(Residue.ResidueType.BIon, 2) / 2.0 # INCORRECT\n",
    " \n",
    "print(\"y3 mz:\", suffix.getMonoWeight(Residue.ResidueType.YIon, 2) / 2.0 )\n",
    "print(\"y3 molecular formula:\", y3_formula)"
   ]
  },
  {
   "cell_type": "code",
   "execution_count": null,
   "id": "12f56d18",
   "metadata": {},
   "outputs": [],
   "source": []
  },
  {
   "cell_type": "code",
   "execution_count": null,
   "id": "1bf62480",
   "metadata": {},
   "outputs": [],
   "source": []
  },
  {
   "cell_type": "code",
   "execution_count": null,
   "id": "a7c4db19",
   "metadata": {},
   "outputs": [],
   "source": []
  },
  {
   "cell_type": "code",
   "execution_count": null,
   "id": "73b030ac",
   "metadata": {},
   "outputs": [],
   "source": []
  },
  {
   "cell_type": "code",
   "execution_count": 21,
   "id": "da474724",
   "metadata": {},
   "outputs": [
    {
     "data": {
      "text/plain": [
       "2744.2727062339004"
      ]
     },
     "execution_count": 21,
     "metadata": {},
     "output_type": "execute_result"
    }
   ],
   "source": [
    "test_seq.getMonoWeight()"
   ]
  }
 ],
 "metadata": {
  "kernelspec": {
   "display_name": "Python 3 (ipykernel)",
   "language": "python",
   "name": "python3"
  },
  "language_info": {
   "codemirror_mode": {
    "name": "ipython",
    "version": 3
   },
   "file_extension": ".py",
   "mimetype": "text/x-python",
   "name": "python",
   "nbconvert_exporter": "python",
   "pygments_lexer": "ipython3",
   "version": "3.9.12"
  }
 },
 "nbformat": 4,
 "nbformat_minor": 5
}
