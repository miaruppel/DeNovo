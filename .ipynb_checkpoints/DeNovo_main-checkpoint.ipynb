{
 "cells": [
  {
   "cell_type": "code",
   "execution_count": 1,
   "id": "9624bf9a",
   "metadata": {},
   "outputs": [],
   "source": [
    "# import libraries\n",
    "from pyopenms import *\n",
    "import os"
   ]
  },
  {
   "cell_type": "code",
   "execution_count": 2,
   "id": "2e379623",
   "metadata": {},
   "outputs": [],
   "source": [
    "# change directory to find file of interest\n",
    "os.chdir(r'C:\\Users\\miar\\Desktop\\data')"
   ]
  },
  {
   "cell_type": "code",
   "execution_count": 3,
   "id": "e62a98b7",
   "metadata": {},
   "outputs": [],
   "source": [
    "#------------------------------------------------------------------------------------------------------------------------------\n",
    "\n",
    "# ONLY NEED TO RUN THE NEXT TWO BLOCKS ONCE\n",
    "\n",
    "#-------------------------------------------------------------------------------------------------------------------------------"
   ]
  },
  {
   "cell_type": "code",
   "execution_count": 4,
   "id": "37311037",
   "metadata": {},
   "outputs": [],
   "source": [
    "# load the content of the mzML file into the exp variable of type MSExperiment\n",
    "#exp = MSExperiment()\n",
    "#MzMLFile().load(\"HEK293T_De_Novo_053122_Glu-C_B_correctRTSenzyme_BP.mzML\", exp)\n",
    "\n",
    "# access the raw data and spectra\n",
    "#spectrum_data = exp.getSpectrum(0).get_peaks()\n",
    "#spectrum_data"
   ]
  },
  {
   "cell_type": "code",
   "execution_count": 5,
   "id": "422c46f3",
   "metadata": {},
   "outputs": [],
   "source": [
    "# loop through the spectra to gather MS2 scans\n",
    "#specM2 = []\n",
    "#for s in exp.getSpectra():\n",
    "#    if s.getMSLevel() == 2:\n",
    "#        specM2.append(s)\n",
    "        \n",
    "#print(\"Number of MS2 scans: \" + str(len(specM2)))\n",
    "\n",
    "#exp.setSpectra(specM2) # keep only MS2\n",
    "\n",
    "# store the modified data structure on disk\n",
    "#MzMLFile().store(\"filtered_MS2.mzML\", exp)"
   ]
  },
  {
   "cell_type": "code",
   "execution_count": 6,
   "id": "fdc7c162",
   "metadata": {},
   "outputs": [],
   "source": [
    "# parse function\n",
    "def parseScanLine(input):\n",
    "    x = input.split(\" For: \")\n",
    "    [scan_number, mzs] = x[1].split(\", \")\n",
    "    [precursor_mz, fragment_mz] = mzs.split(\";\")\n",
    "    trimmed_fragment_mz = fragment_mz.strip() # trim fragment strings to remove \\n\n",
    "    return [scan_number, precursor_mz, trimmed_fragment_mz]"
   ]
  },
  {
   "cell_type": "code",
   "execution_count": 7,
   "id": "cd13a154",
   "metadata": {},
   "outputs": [],
   "source": [
    "# checking lines of log file and creating dictionary of scan numbers and fragment mzs\n",
    "try:\n",
    "  \n",
    "    # words to search for\n",
    "    search = ' Submitted Custom Scan For:'\n",
    "  \n",
    "    # reading file content line by line\n",
    "    search = ' Submitted Custom Scan For:'   # words to search for\n",
    "    \n",
    "    # dict for scan numbers and corresponding fragments \n",
    "    scan2frag = dict()\n",
    "    with open('App-2022-05-31_20-49-35.log') as f:\n",
    "        for line in f:\n",
    "            if search in line:\n",
    "                scan_number, precursor_mz, trimmed_fragment_mz = parseScanLine(line)\n",
    "                scan2frag[scan_number] = trimmed_fragment_mz\n",
    "            \n",
    "    # if the input string doesn't exist in the text file\n",
    "    if len(scan2frag)==0:\n",
    "        print(\"\\n\\\"\" +search+ \"\\\" is not found in \\\"\" +'App-2022-05-31_20-49-35.log'+ \"\\\"!\")\n",
    "\n",
    "except FileNotFoundError:\n",
    "    print(\"The file does not exist!\")"
   ]
  },
  {
   "cell_type": "code",
   "execution_count": 8,
   "id": "7f8dd029",
   "metadata": {},
   "outputs": [],
   "source": [
    "# load in MS2 scans\n",
    "exp1 = MSExperiment()\n",
    "MzMLFile().load(\"filtered_MS2.mzML\", exp1)"
   ]
  },
  {
   "cell_type": "code",
   "execution_count": 9,
   "id": "b73095ac",
   "metadata": {},
   "outputs": [],
   "source": [
    "# read in peptide sequence from tsv\n",
    "import pandas as pd\n",
    "tsv = pd.read_csv('HEK293T_De_Novo_053122_Glu-C_B_correctRTSenzyme_BP_realtimesearch1.tsv', sep='\\t')\n",
    "\n",
    "# create dictionary with scan # as key and sequence/charge as values\n",
    "scan2PeptideCharge = dict([(i, [x,y]) for i, x,y, in zip(tsv['Scan Number'], tsv['Peptide'], tsv['Charge State'])])\n",
    "\n",
    "# removing all NaN sequences (not useful)\n",
    "scan2PeptideCharge_modified = {k:v for k,v in scan2PeptideCharge.items() if str(v[0]) != 'nan'}"
   ]
  },
  {
   "cell_type": "code",
   "execution_count": 10,
   "id": "2680351a",
   "metadata": {},
   "outputs": [],
   "source": [
    "def findFragments(peptide_object, charge):\n",
    "    # loop through each prefix and suffix (b and y ions, respectively)\n",
    "    # y and b ions\n",
    "\n",
    "    b_index = []\n",
    "    y_index = []\n",
    "    for ion in range(1, (peptide_object.size())): # start at index of 1, end at peptide length - 1\n",
    "        y_ion = peptide_object.getSuffix(ion)\n",
    "        b_ion = peptide_object.getPrefix(ion)\n",
    "\n",
    "        for z in range(1, charge):\n",
    "            mz_b = b_ion.getMonoWeight(Residue.ResidueType.BIon, z) / z\n",
    "            b_index.append(s.findNearest(mz_b, 0.4))\n",
    "\n",
    "            mz_y = y_ion.getMonoWeight(Residue.ResidueType.YIon, z) / z\n",
    "            y_index.append(s.findNearest(mz_y, 0.4))\n",
    "\n",
    "    y_index.reverse() # reverse list (the first b ion corresponds with the last y ion)\n",
    "    \n",
    "    # skim list for each corresponding y and b fragments based on charge states\n",
    "    count = 0\n",
    "    missing_list = []\n",
    "    for fragment_index in range(0, len(y_index), charge-1): # check after 'x' mzs (possible charge states)\n",
    "        \n",
    "        count = count + 1\n",
    "        \n",
    "        check_b = b_index[fragment_index : fragment_index+charge-1]\n",
    "        check_y = y_index[fragment_index : fragment_index+charge-1]\n",
    "\n",
    "        if all(item == -1 for item in check_b) and all(item == -1 for item in check_y):\n",
    "            missing_list.append(count)\n",
    "\n",
    "    return missing_list"
   ]
  },
  {
   "cell_type": "code",
   "execution_count": 11,
   "id": "9994a766",
   "metadata": {},
   "outputs": [],
   "source": [
    "from prettytable import PrettyTable \n",
    "\n",
    "myTable = PrettyTable([\"Scan Number\", \"Sequence\", \"Sequence Length\", \"Missing Fragment Locations\"])\n",
    "\n",
    "for s in exp1:\n",
    "    s_number = s.getNativeID().split(' ')[-1]\n",
    "    _, scan_number = s_number.split('=')\n",
    "    \n",
    "    if scan_number in scan2frag and int(scan_number) in scan2PeptideCharge_modified:\n",
    "        # isolate peptide sequence from dict\n",
    "        sequence = scan2PeptideCharge_modified[int(scan_number)][0]     \n",
    "        trimmed_sequence = sequence[2:-2] # remove first two and last two characters \n",
    "        \n",
    "        # isolate charge from dict\n",
    "        charge = scan2PeptideCharge_modified[int(scan_number)][1]\n",
    " \n",
    "        # create peptide object \n",
    "        peptide_object = AASequence.fromString(trimmed_sequence)\n",
    "        \n",
    "        # call findFragments function\n",
    "        missing_list = findFragments(peptide_object, charge)\n",
    "        \n",
    "        # creating table\n",
    "        myTable.add_row([scan_number, trimmed_sequence, peptide_object.size(), missing_list])"
   ]
  },
  {
   "cell_type": "code",
   "execution_count": 12,
   "id": "f49f5963",
   "metadata": {},
   "outputs": [
    {
     "data": {
      "text/html": [
       "<table>\n",
       "    <thead>\n",
       "        <tr>\n",
       "            <th>Scan Number</th>\n",
       "            <th>Sequence</th>\n",
       "            <th>Sequence Length</th>\n",
       "            <th>Missing Fragment Locations</th>\n",
       "        </tr>\n",
       "    </thead>\n",
       "    <tbody>\n",
       "        <tr>\n",
       "            <td>1707</td>\n",
       "            <td>ASPDPMLEPM[15.9949]SWRGNIHE</td>\n",
       "            <td>18</td>\n",
       "            <td>[1, 2, 4, 7, 10, 12]</td>\n",
       "        </tr>\n",
       "        <tr>\n",
       "            <td>2140</td>\n",
       "            <td>IFKNGSKRMIATVPLRHSIRD</td>\n",
       "            <td>21</td>\n",
       "            <td>[13]</td>\n",
       "        </tr>\n",
       "        <tr>\n",
       "            <td>2534</td>\n",
       "            <td>RQVPLASPSSM[15.9949]SAALRGISCYLKE</td>\n",
       "            <td>24</td>\n",
       "            <td>[1, 4, 5, 6, 8, 10, 13, 14, 16, 21, 22, 23]</td>\n",
       "        </tr>\n",
       "        <tr>\n",
       "            <td>3032</td>\n",
       "            <td>FLCQASVGKSPGNNAADPFE</td>\n",
       "            <td>20</td>\n",
       "            <td>[1, 2, 4, 5, 6, 7, 9, 11, 12, 13, 14, 15, 16, 17, 18, 19]</td>\n",
       "        </tr>\n",
       "        <tr>\n",
       "            <td>3148</td>\n",
       "            <td>KAQAIIATMGGTTLMASAHSWAKSSSFSCPE</td>\n",
       "            <td>31</td>\n",
       "            <td>[1, 2, 3, 4, 6, 8, 9, 11, 13, 15, 18, 19, 20, 21, 22, 23, 24, 26, 27, 28, 29, 30]</td>\n",
       "        </tr>\n",
       "        <tr>\n",
       "            <td>3582</td>\n",
       "            <td>KSSM[15.9949]KRKLPFTISPSRNE</td>\n",
       "            <td>18</td>\n",
       "            <td>[3, 4, 6, 10, 11, 13, 14, 16]</td>\n",
       "        </tr>\n",
       "        <tr>\n",
       "            <td>3716</td>\n",
       "            <td>AVCGAGPPSGLLPLPGPDPGPRGSQGSPTPTRAPASGPE</td>\n",
       "            <td>39</td>\n",
       "            <td>[1, 2, 3, 5, 6, 8, 9, 12, 14, 15, 18, 24, 26, 28, 32, 34, 36, 38]</td>\n",
       "        </tr>\n",
       "        <tr>\n",
       "            <td>4026</td>\n",
       "            <td>SRPTPMGPPPTSHFHVLAD</td>\n",
       "            <td>19</td>\n",
       "            <td>[1, 2, 9, 13, 15, 17, 18]</td>\n",
       "        </tr>\n",
       "        <tr>\n",
       "            <td>4027</td>\n",
       "            <td>SIYVIRGTLFSVAVSFTD</td>\n",
       "            <td>18</td>\n",
       "            <td>[1, 4, 5, 8, 9, 12, 14, 15, 16, 17]</td>\n",
       "        </tr>\n",
       "        <tr>\n",
       "            <td>4056</td>\n",
       "            <td>GRGPPGNPPRRM[15.9949]GRINHLRGPSPPPMAGGUGR</td>\n",
       "            <td>32</td>\n",
       "            <td>[1, 3, 10, 11, 15, 17, 23, 25, 29, 30]</td>\n",
       "        </tr>\n",
       "    </tbody>\n",
       "</table>"
      ],
      "text/plain": [
       "+-------------+-------------------------------------------+-----------------+-----------------------------------------------------------------------------------+\n",
       "| Scan Number |                  Sequence                 | Sequence Length |                             Missing Fragment Locations                            |\n",
       "+-------------+-------------------------------------------+-----------------+-----------------------------------------------------------------------------------+\n",
       "|     1707    |        ASPDPMLEPM[15.9949]SWRGNIHE        |        18       |                                [1, 2, 4, 7, 10, 12]                               |\n",
       "|     2140    |           IFKNGSKRMIATVPLRHSIRD           |        21       |                                        [13]                                       |\n",
       "|     2534    |     RQVPLASPSSM[15.9949]SAALRGISCYLKE     |        24       |                    [1, 4, 5, 6, 8, 10, 13, 14, 16, 21, 22, 23]                    |\n",
       "|     3032    |            FLCQASVGKSPGNNAADPFE           |        20       |             [1, 2, 4, 5, 6, 7, 9, 11, 12, 13, 14, 15, 16, 17, 18, 19]             |\n",
       "|     3148    |      KAQAIIATMGGTTLMASAHSWAKSSSFSCPE      |        31       | [1, 2, 3, 4, 6, 8, 9, 11, 13, 15, 18, 19, 20, 21, 22, 23, 24, 26, 27, 28, 29, 30] |\n",
       "|     3582    |        KSSM[15.9949]KRKLPFTISPSRNE        |        18       |                           [3, 4, 6, 10, 11, 13, 14, 16]                           |\n",
       "|     3716    |  AVCGAGPPSGLLPLPGPDPGPRGSQGSPTPTRAPASGPE  |        39       |         [1, 2, 3, 5, 6, 8, 9, 12, 14, 15, 18, 24, 26, 28, 32, 34, 36, 38]         |\n",
       "|     4026    |            SRPTPMGPPPTSHFHVLAD            |        19       |                             [1, 2, 9, 13, 15, 17, 18]                             |\n",
       "|     4027    |             SIYVIRGTLFSVAVSFTD            |        18       |                        [1, 4, 5, 8, 9, 12, 14, 15, 16, 17]                        |\n",
       "|     4056    | GRGPPGNPPRRM[15.9949]GRINHLRGPSPPPMAGGUGR |        32       |                       [1, 3, 10, 11, 15, 17, 23, 25, 29, 30]                      |\n",
       "+-------------+-------------------------------------------+-----------------+-----------------------------------------------------------------------------------+"
      ]
     },
     "execution_count": 12,
     "metadata": {},
     "output_type": "execute_result"
    }
   ],
   "source": [
    "# peek at table \n",
    "myTable[:10]"
   ]
  },
  {
   "cell_type": "code",
   "execution_count": 13,
   "id": "55046d0a",
   "metadata": {},
   "outputs": [],
   "source": [
    "# exporting table to tsv\n",
    "data = myTable.get_string()\n",
    "\n",
    "with open('fragmentsInfoTable.tsv', 'w', encoding='utf-8') as f:\n",
    "    f.write(data)"
   ]
  },
  {
   "cell_type": "code",
   "execution_count": null,
   "id": "8dba5eb9",
   "metadata": {},
   "outputs": [],
   "source": []
  },
  {
   "cell_type": "code",
   "execution_count": null,
   "id": "a286cea7",
   "metadata": {},
   "outputs": [],
   "source": []
  },
  {
   "cell_type": "code",
   "execution_count": null,
   "id": "5b1c107b",
   "metadata": {},
   "outputs": [],
   "source": []
  },
  {
   "cell_type": "code",
   "execution_count": null,
   "id": "2b4d00df",
   "metadata": {},
   "outputs": [],
   "source": []
  }
 ],
 "metadata": {
  "kernelspec": {
   "display_name": "Python 3 (ipykernel)",
   "language": "python",
   "name": "python3"
  },
  "language_info": {
   "codemirror_mode": {
    "name": "ipython",
    "version": 3
   },
   "file_extension": ".py",
   "mimetype": "text/x-python",
   "name": "python",
   "nbconvert_exporter": "python",
   "pygments_lexer": "ipython3",
   "version": "3.9.12"
  }
 },
 "nbformat": 4,
 "nbformat_minor": 5
}
